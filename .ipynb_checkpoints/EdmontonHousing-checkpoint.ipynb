{
 "cells": [
  {
   "cell_type": "markdown",
   "id": "c087c4d0-00be-423f-9f43-587dd844556d",
   "metadata": {},
   "source": [
    "# **Edmonton Housing Data Cleaning and Analysis**"
   ]
  },
  {
   "cell_type": "markdown",
   "id": "26e8ff42-abda-4739-a4c4-69d125b489df",
   "metadata": {},
   "source": [
    "## **Data Cleaning**"
   ]
  },
  {
   "cell_type": "markdown",
   "id": "6f821b48-13d6-4b25-9f7a-b223c172609b",
   "metadata": {},
   "source": [
    "#### Import all the modules"
   ]
  },
  {
   "cell_type": "code",
   "execution_count": 1,
   "id": "12cafedc-a4ed-47bb-8a5f-e3e5f3090c94",
   "metadata": {},
   "outputs": [],
   "source": [
    "import pandas as pd\n",
    "import numpy as np\n",
    "import matplotlib.pyplot as plt\n",
    "%matplotlib inline"
   ]
  },
  {
   "cell_type": "markdown",
   "id": "e854d87d-6906-4c23-8bf2-8283febbf84b",
   "metadata": {},
   "source": [
    "#### Read from csv"
   ]
  },
  {
   "cell_type": "code",
   "execution_count": 2,
   "id": "8c129a8a-05a1-469a-ae00-e90db6715c80",
   "metadata": {},
   "outputs": [],
   "source": [
    "df = pd.read_csv(\"edmonton_housing_data_Feb15_2022.csv\")"
   ]
  },
  {
   "cell_type": "markdown",
   "id": "eb827ac5-3391-4bac-9cd8-7046caf236a5",
   "metadata": {},
   "source": [
    "#### Check all the columns"
   ]
  },
  {
   "cell_type": "code",
   "execution_count": 3,
   "id": "8cb07d83-6055-497b-95a2-440209028b83",
   "metadata": {},
   "outputs": [
    {
     "data": {
      "text/plain": [
       "Index(['House Description', 'Price', 'Bedrooms', 'Bathrooms', 'Full Baths',\n",
       "       'Square Footage', 'Acres', 'Year Built', 'Type', 'Sub-Type', 'Style',\n",
       "       'Address', 'Area', 'Community', 'Condo', 'City', 'County', 'Province',\n",
       "       'Postal Code', 'Features', 'Parking Spaces', 'Parking', 'Is Waterfront',\n",
       "       'Has Pool', 'Interior', 'Interior Features', 'Heating', 'Fireplace',\n",
       "       '# of Stories', 'Has Basement', 'Basement', 'Separate Entrance',\n",
       "       'Exterior', 'Exterior Features', 'Construction', 'Foundation',\n",
       "       'Elementary', 'Middle', 'High', 'Foreclosure', 'RE / Bank Owned',\n",
       "       'Office', 'Bedrooms Above Grade', '# of Garages', 'Garages',\n",
       "       'Half Baths', 'Fireplaces', 'Zoning', 'Lot Description', 'HOA Fees',\n",
       "       'HOA Fees Freq.', 'Condo Fee'],\n",
       "      dtype='object')"
      ]
     },
     "execution_count": 3,
     "metadata": {},
     "output_type": "execute_result"
    }
   ],
   "source": [
    "df.columns"
   ]
  },
  {
   "cell_type": "markdown",
   "id": "b63b4243-0588-4b10-ae13-c026693bbc0a",
   "metadata": {},
   "source": [
    "#### Drop unnecessary columns"
   ]
  },
  {
   "cell_type": "code",
   "execution_count": 4,
   "id": "e8ff5771-e038-4d25-91b7-32fb5bdcfbce",
   "metadata": {},
   "outputs": [],
   "source": [
    "df.drop(['House Description', 'Full Baths', 'Condo', 'County', 'Features', 'Parking', 'Is Waterfront',\n",
    "       'Has Pool', 'Interior', 'Interior Features', 'Heating', 'Fireplace',\n",
    "       '# of Stories', 'Has Basement', 'Basement', 'Separate Entrance',\n",
    "       'Exterior', 'Exterior Features', 'Construction', 'Foundation',\n",
    "       'Elementary', 'Middle', 'High', 'Foreclosure', 'RE / Bank Owned',\n",
    "       'Office', 'Bedrooms Above Grade', '# of Garages', 'Garages',\n",
    "       'Half Baths', 'Fireplaces', 'Zoning', 'Lot Description', 'HOA Fees',\n",
    "       'HOA Fees Freq.', 'Condo Fee'], axis = 1, inplace = True)"
   ]
  },
  {
   "cell_type": "markdown",
   "id": "ec8a5e48-9010-4792-aec4-ba801910392d",
   "metadata": {},
   "source": [
    "#### Checking if Area and City columns hold different values"
   ]
  },
  {
   "cell_type": "code",
   "execution_count": 5,
   "id": "5becd50e-0948-4dd5-9fd3-a729122e2b11",
   "metadata": {},
   "outputs": [
    {
     "data": {
      "text/html": [
       "<div>\n",
       "<style scoped>\n",
       "    .dataframe tbody tr th:only-of-type {\n",
       "        vertical-align: middle;\n",
       "    }\n",
       "\n",
       "    .dataframe tbody tr th {\n",
       "        vertical-align: top;\n",
       "    }\n",
       "\n",
       "    .dataframe thead th {\n",
       "        text-align: right;\n",
       "    }\n",
       "</style>\n",
       "<table border=\"1\" class=\"dataframe\">\n",
       "  <thead>\n",
       "    <tr style=\"text-align: right;\">\n",
       "      <th></th>\n",
       "      <th>Price</th>\n",
       "      <th>Bedrooms</th>\n",
       "      <th>Bathrooms</th>\n",
       "      <th>Square Footage</th>\n",
       "      <th>Acres</th>\n",
       "      <th>Year Built</th>\n",
       "      <th>Type</th>\n",
       "      <th>Sub-Type</th>\n",
       "      <th>Style</th>\n",
       "      <th>Address</th>\n",
       "      <th>Area</th>\n",
       "      <th>Community</th>\n",
       "      <th>City</th>\n",
       "      <th>Province</th>\n",
       "      <th>Postal Code</th>\n",
       "      <th>Parking Spaces</th>\n",
       "    </tr>\n",
       "  </thead>\n",
       "  <tbody>\n",
       "  </tbody>\n",
       "</table>\n",
       "</div>"
      ],
      "text/plain": [
       "Empty DataFrame\n",
       "Columns: [Price, Bedrooms, Bathrooms, Square Footage, Acres, Year Built, Type, Sub-Type, Style, Address, Area, Community, City, Province, Postal Code, Parking Spaces]\n",
       "Index: []"
      ]
     },
     "execution_count": 5,
     "metadata": {},
     "output_type": "execute_result"
    }
   ],
   "source": [
    "df[df['Area'] != df['City']]"
   ]
  },
  {
   "cell_type": "markdown",
   "id": "8dafedce-de1f-4c61-83a5-c2dc4adda91b",
   "metadata": {},
   "source": [
    "#### Drop Area column as it is unnecessary"
   ]
  },
  {
   "cell_type": "code",
   "execution_count": 6,
   "id": "bd9b6415-558f-4eb8-92ef-263dbd1e8449",
   "metadata": {},
   "outputs": [],
   "source": [
    "df.drop('Area', axis = 1, inplace = True)"
   ]
  },
  {
   "cell_type": "markdown",
   "id": "930301df-d868-420c-b6b7-cbc30d4c5827",
   "metadata": {},
   "source": [
    "#### Fill null values with 0 in the 'Parking Spaces' column"
   ]
  },
  {
   "cell_type": "code",
   "execution_count": 7,
   "id": "38952040-8bd0-4179-860c-d0de1b227cd7",
   "metadata": {},
   "outputs": [],
   "source": [
    "df['Parking Spaces'] = df['Parking Spaces'].fillna(0)\n",
    "df.insert(3, 'Parking Spaces', df.pop('Parking Spaces'))"
   ]
  },
  {
   "cell_type": "markdown",
   "id": "79bb61f3-8116-4dc6-8848-cf905119fa36",
   "metadata": {},
   "source": [
    "#### Replacing 'AB' with 'Alberta'"
   ]
  },
  {
   "cell_type": "code",
   "execution_count": 8,
   "id": "9be2ea32-4352-4248-bb8d-bbb58beaf46a",
   "metadata": {},
   "outputs": [],
   "source": [
    "df['Province'] = df['Province'].replace('AB','Alberta')"
   ]
  },
  {
   "cell_type": "markdown",
   "id": "73391455-5238-498c-8899-350e6662ed16",
   "metadata": {},
   "source": [
    "#### Removing signs from values in 'Price' and 'Square Footage' columns"
   ]
  },
  {
   "cell_type": "code",
   "execution_count": 9,
   "id": "0226a4a8-a696-49b8-888a-4f6102add16a",
   "metadata": {},
   "outputs": [],
   "source": [
    "df = df.replace({\n",
    "    'Price' : '[,$]',\n",
    "    'Square Footage' : ','},\n",
    "                '', regex = True)"
   ]
  },
  {
   "cell_type": "markdown",
   "id": "fe5cc875-7d85-46da-a998-792b8f8c9b47",
   "metadata": {},
   "source": [
    "#### Changing data type of each column as required"
   ]
  },
  {
   "cell_type": "code",
   "execution_count": 10,
   "id": "28307782-f9d9-4b0e-ac3d-3334ce83774e",
   "metadata": {},
   "outputs": [],
   "source": [
    "# Change the data types of the specified columns\n",
    "df = df.astype({'Price': float, 'Parking Spaces': int, 'Square Footage': float, 'Acres': float,\n",
    "              'Bedrooms': int, 'Bathrooms': int, 'Year Built': int})"
   ]
  },
  {
   "cell_type": "markdown",
   "id": "cae652ed-9944-4b6e-9cd9-72fc08952fe8",
   "metadata": {},
   "source": [
    "#### Creating a custom column 'Description' that will work as the primary key and appending it to the front"
   ]
  },
  {
   "cell_type": "code",
   "execution_count": 11,
   "id": "7c1f4378-2a0e-45cd-9924-1f228c17bfe7",
   "metadata": {},
   "outputs": [],
   "source": [
    "df['Description'] = df['Bedrooms'].astype(str) + \" Bedrooms \" + df['Bathrooms'].astype(str) + \" Bathrooms \" + df['Style']\n",
    "df.insert(0, 'Description', df.pop('Description'))"
   ]
  },
  {
   "cell_type": "markdown",
   "id": "d6af4e44-4dfe-4438-a934-59904b953cb1",
   "metadata": {},
   "source": [
    "#### View the dataframe"
   ]
  },
  {
   "cell_type": "code",
   "execution_count": 12,
   "id": "31f1a7f1-4cbc-4ae5-93d3-603ee35138d6",
   "metadata": {},
   "outputs": [
    {
     "data": {
      "text/html": [
       "<div>\n",
       "<style scoped>\n",
       "    .dataframe tbody tr th:only-of-type {\n",
       "        vertical-align: middle;\n",
       "    }\n",
       "\n",
       "    .dataframe tbody tr th {\n",
       "        vertical-align: top;\n",
       "    }\n",
       "\n",
       "    .dataframe thead th {\n",
       "        text-align: right;\n",
       "    }\n",
       "</style>\n",
       "<table border=\"1\" class=\"dataframe\">\n",
       "  <thead>\n",
       "    <tr style=\"text-align: right;\">\n",
       "      <th></th>\n",
       "      <th>Description</th>\n",
       "      <th>Price</th>\n",
       "      <th>Bedrooms</th>\n",
       "      <th>Bathrooms</th>\n",
       "      <th>Parking Spaces</th>\n",
       "      <th>Square Footage</th>\n",
       "      <th>Acres</th>\n",
       "      <th>Year Built</th>\n",
       "      <th>Type</th>\n",
       "      <th>Sub-Type</th>\n",
       "      <th>Style</th>\n",
       "      <th>Address</th>\n",
       "      <th>Community</th>\n",
       "      <th>City</th>\n",
       "      <th>Province</th>\n",
       "      <th>Postal Code</th>\n",
       "    </tr>\n",
       "  </thead>\n",
       "  <tbody>\n",
       "    <tr>\n",
       "      <th>0</th>\n",
       "      <td>1 Bedrooms 1 Bathrooms Bungalow</td>\n",
       "      <td>399990.0</td>\n",
       "      <td>1</td>\n",
       "      <td>1</td>\n",
       "      <td>8</td>\n",
       "      <td>787.0</td>\n",
       "      <td>0.12</td>\n",
       "      <td>1948</td>\n",
       "      <td>Single Family</td>\n",
       "      <td>Residential Detached Single Family</td>\n",
       "      <td>Bungalow</td>\n",
       "      <td>15915 100a Avenue Nw</td>\n",
       "      <td>Glenwood</td>\n",
       "      <td>Edmonton</td>\n",
       "      <td>Alberta</td>\n",
       "      <td>T5P 0L7</td>\n",
       "    </tr>\n",
       "    <tr>\n",
       "      <th>1</th>\n",
       "      <td>4 Bedrooms 2 Bathrooms Bungalow</td>\n",
       "      <td>357000.0</td>\n",
       "      <td>4</td>\n",
       "      <td>2</td>\n",
       "      <td>0</td>\n",
       "      <td>929.0</td>\n",
       "      <td>0.15</td>\n",
       "      <td>1954</td>\n",
       "      <td>Single Family</td>\n",
       "      <td>Residential Detached Single Family</td>\n",
       "      <td>Bungalow</td>\n",
       "      <td>11540 140 Street Nw</td>\n",
       "      <td>Woodcroft</td>\n",
       "      <td>Edmonton</td>\n",
       "      <td>Alberta</td>\n",
       "      <td>T5M 1S7</td>\n",
       "    </tr>\n",
       "    <tr>\n",
       "      <th>2</th>\n",
       "      <td>5 Bedrooms 2 Bathrooms Bungalow</td>\n",
       "      <td>499600.0</td>\n",
       "      <td>5</td>\n",
       "      <td>2</td>\n",
       "      <td>2</td>\n",
       "      <td>1161.0</td>\n",
       "      <td>0.14</td>\n",
       "      <td>1959</td>\n",
       "      <td>Single Family</td>\n",
       "      <td>Residential Detached Single Family</td>\n",
       "      <td>Bungalow</td>\n",
       "      <td>10431 68 Avenue Nw</td>\n",
       "      <td>Allendale</td>\n",
       "      <td>Edmonton</td>\n",
       "      <td>Alberta</td>\n",
       "      <td>T6H 2A8</td>\n",
       "    </tr>\n",
       "    <tr>\n",
       "      <th>3</th>\n",
       "      <td>4 Bedrooms 3 Bathrooms Bungalow</td>\n",
       "      <td>398800.0</td>\n",
       "      <td>4</td>\n",
       "      <td>3</td>\n",
       "      <td>6</td>\n",
       "      <td>1217.0</td>\n",
       "      <td>0.15</td>\n",
       "      <td>1976</td>\n",
       "      <td>Single Family</td>\n",
       "      <td>Residential Detached Single Family</td>\n",
       "      <td>Bungalow</td>\n",
       "      <td>12112 146 Avenue Nw</td>\n",
       "      <td>Caernarvon</td>\n",
       "      <td>Edmonton</td>\n",
       "      <td>Alberta</td>\n",
       "      <td>T5X 1V3</td>\n",
       "    </tr>\n",
       "    <tr>\n",
       "      <th>4</th>\n",
       "      <td>3 Bedrooms 2 Bathrooms Bungalow</td>\n",
       "      <td>279900.0</td>\n",
       "      <td>3</td>\n",
       "      <td>2</td>\n",
       "      <td>0</td>\n",
       "      <td>1160.0</td>\n",
       "      <td>0.00</td>\n",
       "      <td>1979</td>\n",
       "      <td>Single Family</td>\n",
       "      <td>Residential Detached Single Family</td>\n",
       "      <td>Bungalow</td>\n",
       "      <td>11945 52 Street Nw</td>\n",
       "      <td>Newton</td>\n",
       "      <td>Edmonton</td>\n",
       "      <td>Alberta</td>\n",
       "      <td>T5W 3J5</td>\n",
       "    </tr>\n",
       "    <tr>\n",
       "      <th>...</th>\n",
       "      <td>...</td>\n",
       "      <td>...</td>\n",
       "      <td>...</td>\n",
       "      <td>...</td>\n",
       "      <td>...</td>\n",
       "      <td>...</td>\n",
       "      <td>...</td>\n",
       "      <td>...</td>\n",
       "      <td>...</td>\n",
       "      <td>...</td>\n",
       "      <td>...</td>\n",
       "      <td>...</td>\n",
       "      <td>...</td>\n",
       "      <td>...</td>\n",
       "      <td>...</td>\n",
       "      <td>...</td>\n",
       "    </tr>\n",
       "    <tr>\n",
       "      <th>1692</th>\n",
       "      <td>6 Bedrooms 2 Bathrooms Bungalow</td>\n",
       "      <td>399900.0</td>\n",
       "      <td>6</td>\n",
       "      <td>2</td>\n",
       "      <td>0</td>\n",
       "      <td>1227.0</td>\n",
       "      <td>0.17</td>\n",
       "      <td>1960</td>\n",
       "      <td>Single Family</td>\n",
       "      <td>Duplex Up And Down</td>\n",
       "      <td>Bungalow</td>\n",
       "      <td>12939 12941 102 Street Nw</td>\n",
       "      <td>Lauderdale</td>\n",
       "      <td>Edmonton</td>\n",
       "      <td>Alberta</td>\n",
       "      <td>T5E 4J4</td>\n",
       "    </tr>\n",
       "    <tr>\n",
       "      <th>1693</th>\n",
       "      <td>6 Bedrooms 6 Bathrooms 2 Storey Split</td>\n",
       "      <td>2795000.0</td>\n",
       "      <td>6</td>\n",
       "      <td>6</td>\n",
       "      <td>0</td>\n",
       "      <td>4593.0</td>\n",
       "      <td>0.13</td>\n",
       "      <td>2004</td>\n",
       "      <td>Condo / Townhouse</td>\n",
       "      <td>Duplex Up And Down</td>\n",
       "      <td>2 Storey Split</td>\n",
       "      <td>10521/10519 Saskatchewan Drive Nw Nw</td>\n",
       "      <td>Strathcona</td>\n",
       "      <td>Edmonton</td>\n",
       "      <td>Alberta</td>\n",
       "      <td>T6E 4S1</td>\n",
       "    </tr>\n",
       "    <tr>\n",
       "      <th>1694</th>\n",
       "      <td>6 Bedrooms 2 Bathrooms 2 and Half Storey</td>\n",
       "      <td>239900.0</td>\n",
       "      <td>6</td>\n",
       "      <td>2</td>\n",
       "      <td>0</td>\n",
       "      <td>1783.0</td>\n",
       "      <td>0.00</td>\n",
       "      <td>1917</td>\n",
       "      <td>Single Family</td>\n",
       "      <td>Duplex Up And Down</td>\n",
       "      <td>2 and Half Storey</td>\n",
       "      <td>11503 95a Street Nw</td>\n",
       "      <td>Alberta Avenue</td>\n",
       "      <td>Edmonton</td>\n",
       "      <td>Alberta</td>\n",
       "      <td>T5G 1P6</td>\n",
       "    </tr>\n",
       "    <tr>\n",
       "      <th>1695</th>\n",
       "      <td>4 Bedrooms 9 Bathrooms 2 Storey</td>\n",
       "      <td>839900.0</td>\n",
       "      <td>4</td>\n",
       "      <td>9</td>\n",
       "      <td>0</td>\n",
       "      <td>3445.0</td>\n",
       "      <td>0.05</td>\n",
       "      <td>2017</td>\n",
       "      <td>Condo / Townhouse</td>\n",
       "      <td>Tri-Plex</td>\n",
       "      <td>2 Storey</td>\n",
       "      <td>11949 58 Street Nw</td>\n",
       "      <td>Newton</td>\n",
       "      <td>Edmonton</td>\n",
       "      <td>Alberta</td>\n",
       "      <td>T5W 3X1</td>\n",
       "    </tr>\n",
       "    <tr>\n",
       "      <th>1696</th>\n",
       "      <td>7 Bedrooms 3 Bathrooms 2 Storey</td>\n",
       "      <td>289900.0</td>\n",
       "      <td>7</td>\n",
       "      <td>3</td>\n",
       "      <td>6</td>\n",
       "      <td>2100.0</td>\n",
       "      <td>0.13</td>\n",
       "      <td>1916</td>\n",
       "      <td>Single Family</td>\n",
       "      <td>Tri-Plex</td>\n",
       "      <td>2 Storey</td>\n",
       "      <td>12741 69 Street Nw</td>\n",
       "      <td>Balwin</td>\n",
       "      <td>Edmonton</td>\n",
       "      <td>Alberta</td>\n",
       "      <td>T5C 0H1</td>\n",
       "    </tr>\n",
       "  </tbody>\n",
       "</table>\n",
       "<p>1697 rows × 16 columns</p>\n",
       "</div>"
      ],
      "text/plain": [
       "                                   Description      Price  Bedrooms  \\\n",
       "0              1 Bedrooms 1 Bathrooms Bungalow   399990.0         1   \n",
       "1              4 Bedrooms 2 Bathrooms Bungalow   357000.0         4   \n",
       "2              5 Bedrooms 2 Bathrooms Bungalow   499600.0         5   \n",
       "3              4 Bedrooms 3 Bathrooms Bungalow   398800.0         4   \n",
       "4              3 Bedrooms 2 Bathrooms Bungalow   279900.0         3   \n",
       "...                                        ...        ...       ...   \n",
       "1692           6 Bedrooms 2 Bathrooms Bungalow   399900.0         6   \n",
       "1693     6 Bedrooms 6 Bathrooms 2 Storey Split  2795000.0         6   \n",
       "1694  6 Bedrooms 2 Bathrooms 2 and Half Storey   239900.0         6   \n",
       "1695           4 Bedrooms 9 Bathrooms 2 Storey   839900.0         4   \n",
       "1696           7 Bedrooms 3 Bathrooms 2 Storey   289900.0         7   \n",
       "\n",
       "      Bathrooms  Parking Spaces  Square Footage  Acres  Year Built  \\\n",
       "0             1               8           787.0   0.12        1948   \n",
       "1             2               0           929.0   0.15        1954   \n",
       "2             2               2          1161.0   0.14        1959   \n",
       "3             3               6          1217.0   0.15        1976   \n",
       "4             2               0          1160.0   0.00        1979   \n",
       "...         ...             ...             ...    ...         ...   \n",
       "1692          2               0          1227.0   0.17        1960   \n",
       "1693          6               0          4593.0   0.13        2004   \n",
       "1694          2               0          1783.0   0.00        1917   \n",
       "1695          9               0          3445.0   0.05        2017   \n",
       "1696          3               6          2100.0   0.13        1916   \n",
       "\n",
       "                   Type                            Sub-Type  \\\n",
       "0         Single Family  Residential Detached Single Family   \n",
       "1         Single Family  Residential Detached Single Family   \n",
       "2         Single Family  Residential Detached Single Family   \n",
       "3         Single Family  Residential Detached Single Family   \n",
       "4         Single Family  Residential Detached Single Family   \n",
       "...                 ...                                 ...   \n",
       "1692      Single Family                  Duplex Up And Down   \n",
       "1693  Condo / Townhouse                  Duplex Up And Down   \n",
       "1694      Single Family                  Duplex Up And Down   \n",
       "1695  Condo / Townhouse                            Tri-Plex   \n",
       "1696      Single Family                            Tri-Plex   \n",
       "\n",
       "                  Style                               Address       Community  \\\n",
       "0              Bungalow                  15915 100a Avenue Nw        Glenwood   \n",
       "1              Bungalow                   11540 140 Street Nw       Woodcroft   \n",
       "2              Bungalow                    10431 68 Avenue Nw       Allendale   \n",
       "3              Bungalow                   12112 146 Avenue Nw      Caernarvon   \n",
       "4              Bungalow                    11945 52 Street Nw          Newton   \n",
       "...                 ...                                   ...             ...   \n",
       "1692           Bungalow             12939 12941 102 Street Nw      Lauderdale   \n",
       "1693     2 Storey Split  10521/10519 Saskatchewan Drive Nw Nw      Strathcona   \n",
       "1694  2 and Half Storey                   11503 95a Street Nw  Alberta Avenue   \n",
       "1695           2 Storey                    11949 58 Street Nw          Newton   \n",
       "1696           2 Storey                    12741 69 Street Nw          Balwin   \n",
       "\n",
       "          City Province Postal Code  \n",
       "0     Edmonton  Alberta     T5P 0L7  \n",
       "1     Edmonton  Alberta     T5M 1S7  \n",
       "2     Edmonton  Alberta     T6H 2A8  \n",
       "3     Edmonton  Alberta     T5X 1V3  \n",
       "4     Edmonton  Alberta     T5W 3J5  \n",
       "...        ...      ...         ...  \n",
       "1692  Edmonton  Alberta     T5E 4J4  \n",
       "1693  Edmonton  Alberta     T6E 4S1  \n",
       "1694  Edmonton  Alberta     T5G 1P6  \n",
       "1695  Edmonton  Alberta     T5W 3X1  \n",
       "1696  Edmonton  Alberta     T5C 0H1  \n",
       "\n",
       "[1697 rows x 16 columns]"
      ]
     },
     "execution_count": 12,
     "metadata": {},
     "output_type": "execute_result"
    }
   ],
   "source": [
    "df"
   ]
  },
  {
   "cell_type": "markdown",
   "id": "8be67cab-bd8a-402a-89bb-b40b491116f9",
   "metadata": {},
   "source": [
    "#### Export the dataframe in csv format"
   ]
  },
  {
   "cell_type": "code",
   "execution_count": 13,
   "id": "6cf7a740-98b5-4678-aeb2-c4e264b6f0fd",
   "metadata": {},
   "outputs": [
    {
     "ename": "PermissionError",
     "evalue": "[Errno 13] Permission denied: 'EdmontonHousingFinal.csv'",
     "output_type": "error",
     "traceback": [
      "\u001b[1;31m---------------------------------------------------------------------------\u001b[0m",
      "\u001b[1;31mPermissionError\u001b[0m                           Traceback (most recent call last)",
      "Cell \u001b[1;32mIn[13], line 1\u001b[0m\n\u001b[1;32m----> 1\u001b[0m \u001b[43mdf\u001b[49m\u001b[38;5;241;43m.\u001b[39;49m\u001b[43mto_csv\u001b[49m\u001b[43m(\u001b[49m\u001b[38;5;124;43m'\u001b[39;49m\u001b[38;5;124;43mEdmontonHousingFinal.csv\u001b[39;49m\u001b[38;5;124;43m'\u001b[39;49m\u001b[43m,\u001b[49m\u001b[43m \u001b[49m\u001b[43mindex\u001b[49m\u001b[43m \u001b[49m\u001b[38;5;241;43m=\u001b[39;49m\u001b[43m \u001b[49m\u001b[38;5;28;43;01mFalse\u001b[39;49;00m\u001b[43m)\u001b[49m\n",
      "File \u001b[1;32m~\\AppData\\Local\\Packages\\PythonSoftwareFoundation.Python.3.10_qbz5n2kfra8p0\\LocalCache\\local-packages\\Python310\\site-packages\\pandas\\core\\generic.py:3772\u001b[0m, in \u001b[0;36mNDFrame.to_csv\u001b[1;34m(self, path_or_buf, sep, na_rep, float_format, columns, header, index, index_label, mode, encoding, compression, quoting, quotechar, lineterminator, chunksize, date_format, doublequote, escapechar, decimal, errors, storage_options)\u001b[0m\n\u001b[0;32m   3761\u001b[0m df \u001b[38;5;241m=\u001b[39m \u001b[38;5;28mself\u001b[39m \u001b[38;5;28;01mif\u001b[39;00m \u001b[38;5;28misinstance\u001b[39m(\u001b[38;5;28mself\u001b[39m, ABCDataFrame) \u001b[38;5;28;01melse\u001b[39;00m \u001b[38;5;28mself\u001b[39m\u001b[38;5;241m.\u001b[39mto_frame()\n\u001b[0;32m   3763\u001b[0m formatter \u001b[38;5;241m=\u001b[39m DataFrameFormatter(\n\u001b[0;32m   3764\u001b[0m     frame\u001b[38;5;241m=\u001b[39mdf,\n\u001b[0;32m   3765\u001b[0m     header\u001b[38;5;241m=\u001b[39mheader,\n\u001b[1;32m   (...)\u001b[0m\n\u001b[0;32m   3769\u001b[0m     decimal\u001b[38;5;241m=\u001b[39mdecimal,\n\u001b[0;32m   3770\u001b[0m )\n\u001b[1;32m-> 3772\u001b[0m \u001b[38;5;28;01mreturn\u001b[39;00m \u001b[43mDataFrameRenderer\u001b[49m\u001b[43m(\u001b[49m\u001b[43mformatter\u001b[49m\u001b[43m)\u001b[49m\u001b[38;5;241;43m.\u001b[39;49m\u001b[43mto_csv\u001b[49m\u001b[43m(\u001b[49m\n\u001b[0;32m   3773\u001b[0m \u001b[43m    \u001b[49m\u001b[43mpath_or_buf\u001b[49m\u001b[43m,\u001b[49m\n\u001b[0;32m   3774\u001b[0m \u001b[43m    \u001b[49m\u001b[43mlineterminator\u001b[49m\u001b[38;5;241;43m=\u001b[39;49m\u001b[43mlineterminator\u001b[49m\u001b[43m,\u001b[49m\n\u001b[0;32m   3775\u001b[0m \u001b[43m    \u001b[49m\u001b[43msep\u001b[49m\u001b[38;5;241;43m=\u001b[39;49m\u001b[43msep\u001b[49m\u001b[43m,\u001b[49m\n\u001b[0;32m   3776\u001b[0m \u001b[43m    \u001b[49m\u001b[43mencoding\u001b[49m\u001b[38;5;241;43m=\u001b[39;49m\u001b[43mencoding\u001b[49m\u001b[43m,\u001b[49m\n\u001b[0;32m   3777\u001b[0m \u001b[43m    \u001b[49m\u001b[43merrors\u001b[49m\u001b[38;5;241;43m=\u001b[39;49m\u001b[43merrors\u001b[49m\u001b[43m,\u001b[49m\n\u001b[0;32m   3778\u001b[0m \u001b[43m    \u001b[49m\u001b[43mcompression\u001b[49m\u001b[38;5;241;43m=\u001b[39;49m\u001b[43mcompression\u001b[49m\u001b[43m,\u001b[49m\n\u001b[0;32m   3779\u001b[0m \u001b[43m    \u001b[49m\u001b[43mquoting\u001b[49m\u001b[38;5;241;43m=\u001b[39;49m\u001b[43mquoting\u001b[49m\u001b[43m,\u001b[49m\n\u001b[0;32m   3780\u001b[0m \u001b[43m    \u001b[49m\u001b[43mcolumns\u001b[49m\u001b[38;5;241;43m=\u001b[39;49m\u001b[43mcolumns\u001b[49m\u001b[43m,\u001b[49m\n\u001b[0;32m   3781\u001b[0m \u001b[43m    \u001b[49m\u001b[43mindex_label\u001b[49m\u001b[38;5;241;43m=\u001b[39;49m\u001b[43mindex_label\u001b[49m\u001b[43m,\u001b[49m\n\u001b[0;32m   3782\u001b[0m \u001b[43m    \u001b[49m\u001b[43mmode\u001b[49m\u001b[38;5;241;43m=\u001b[39;49m\u001b[43mmode\u001b[49m\u001b[43m,\u001b[49m\n\u001b[0;32m   3783\u001b[0m \u001b[43m    \u001b[49m\u001b[43mchunksize\u001b[49m\u001b[38;5;241;43m=\u001b[39;49m\u001b[43mchunksize\u001b[49m\u001b[43m,\u001b[49m\n\u001b[0;32m   3784\u001b[0m \u001b[43m    \u001b[49m\u001b[43mquotechar\u001b[49m\u001b[38;5;241;43m=\u001b[39;49m\u001b[43mquotechar\u001b[49m\u001b[43m,\u001b[49m\n\u001b[0;32m   3785\u001b[0m \u001b[43m    \u001b[49m\u001b[43mdate_format\u001b[49m\u001b[38;5;241;43m=\u001b[39;49m\u001b[43mdate_format\u001b[49m\u001b[43m,\u001b[49m\n\u001b[0;32m   3786\u001b[0m \u001b[43m    \u001b[49m\u001b[43mdoublequote\u001b[49m\u001b[38;5;241;43m=\u001b[39;49m\u001b[43mdoublequote\u001b[49m\u001b[43m,\u001b[49m\n\u001b[0;32m   3787\u001b[0m \u001b[43m    \u001b[49m\u001b[43mescapechar\u001b[49m\u001b[38;5;241;43m=\u001b[39;49m\u001b[43mescapechar\u001b[49m\u001b[43m,\u001b[49m\n\u001b[0;32m   3788\u001b[0m \u001b[43m    \u001b[49m\u001b[43mstorage_options\u001b[49m\u001b[38;5;241;43m=\u001b[39;49m\u001b[43mstorage_options\u001b[49m\u001b[43m,\u001b[49m\n\u001b[0;32m   3789\u001b[0m \u001b[43m\u001b[49m\u001b[43m)\u001b[49m\n",
      "File \u001b[1;32m~\\AppData\\Local\\Packages\\PythonSoftwareFoundation.Python.3.10_qbz5n2kfra8p0\\LocalCache\\local-packages\\Python310\\site-packages\\pandas\\io\\formats\\format.py:1186\u001b[0m, in \u001b[0;36mDataFrameRenderer.to_csv\u001b[1;34m(self, path_or_buf, encoding, sep, columns, index_label, mode, compression, quoting, quotechar, lineterminator, chunksize, date_format, doublequote, escapechar, errors, storage_options)\u001b[0m\n\u001b[0;32m   1165\u001b[0m     created_buffer \u001b[38;5;241m=\u001b[39m \u001b[38;5;28;01mFalse\u001b[39;00m\n\u001b[0;32m   1167\u001b[0m csv_formatter \u001b[38;5;241m=\u001b[39m CSVFormatter(\n\u001b[0;32m   1168\u001b[0m     path_or_buf\u001b[38;5;241m=\u001b[39mpath_or_buf,\n\u001b[0;32m   1169\u001b[0m     lineterminator\u001b[38;5;241m=\u001b[39mlineterminator,\n\u001b[1;32m   (...)\u001b[0m\n\u001b[0;32m   1184\u001b[0m     formatter\u001b[38;5;241m=\u001b[39m\u001b[38;5;28mself\u001b[39m\u001b[38;5;241m.\u001b[39mfmt,\n\u001b[0;32m   1185\u001b[0m )\n\u001b[1;32m-> 1186\u001b[0m \u001b[43mcsv_formatter\u001b[49m\u001b[38;5;241;43m.\u001b[39;49m\u001b[43msave\u001b[49m\u001b[43m(\u001b[49m\u001b[43m)\u001b[49m\n\u001b[0;32m   1188\u001b[0m \u001b[38;5;28;01mif\u001b[39;00m created_buffer:\n\u001b[0;32m   1189\u001b[0m     \u001b[38;5;28;01massert\u001b[39;00m \u001b[38;5;28misinstance\u001b[39m(path_or_buf, StringIO)\n",
      "File \u001b[1;32m~\\AppData\\Local\\Packages\\PythonSoftwareFoundation.Python.3.10_qbz5n2kfra8p0\\LocalCache\\local-packages\\Python310\\site-packages\\pandas\\io\\formats\\csvs.py:240\u001b[0m, in \u001b[0;36mCSVFormatter.save\u001b[1;34m(self)\u001b[0m\n\u001b[0;32m    236\u001b[0m \u001b[38;5;250m\u001b[39m\u001b[38;5;124;03m\"\"\"\u001b[39;00m\n\u001b[0;32m    237\u001b[0m \u001b[38;5;124;03mCreate the writer & save.\u001b[39;00m\n\u001b[0;32m    238\u001b[0m \u001b[38;5;124;03m\"\"\"\u001b[39;00m\n\u001b[0;32m    239\u001b[0m \u001b[38;5;66;03m# apply compression and byte/text conversion\u001b[39;00m\n\u001b[1;32m--> 240\u001b[0m \u001b[38;5;28;01mwith\u001b[39;00m \u001b[43mget_handle\u001b[49m\u001b[43m(\u001b[49m\n\u001b[0;32m    241\u001b[0m \u001b[43m    \u001b[49m\u001b[38;5;28;43mself\u001b[39;49m\u001b[38;5;241;43m.\u001b[39;49m\u001b[43mfilepath_or_buffer\u001b[49m\u001b[43m,\u001b[49m\n\u001b[0;32m    242\u001b[0m \u001b[43m    \u001b[49m\u001b[38;5;28;43mself\u001b[39;49m\u001b[38;5;241;43m.\u001b[39;49m\u001b[43mmode\u001b[49m\u001b[43m,\u001b[49m\n\u001b[0;32m    243\u001b[0m \u001b[43m    \u001b[49m\u001b[43mencoding\u001b[49m\u001b[38;5;241;43m=\u001b[39;49m\u001b[38;5;28;43mself\u001b[39;49m\u001b[38;5;241;43m.\u001b[39;49m\u001b[43mencoding\u001b[49m\u001b[43m,\u001b[49m\n\u001b[0;32m    244\u001b[0m \u001b[43m    \u001b[49m\u001b[43merrors\u001b[49m\u001b[38;5;241;43m=\u001b[39;49m\u001b[38;5;28;43mself\u001b[39;49m\u001b[38;5;241;43m.\u001b[39;49m\u001b[43merrors\u001b[49m\u001b[43m,\u001b[49m\n\u001b[0;32m    245\u001b[0m \u001b[43m    \u001b[49m\u001b[43mcompression\u001b[49m\u001b[38;5;241;43m=\u001b[39;49m\u001b[38;5;28;43mself\u001b[39;49m\u001b[38;5;241;43m.\u001b[39;49m\u001b[43mcompression\u001b[49m\u001b[43m,\u001b[49m\n\u001b[0;32m    246\u001b[0m \u001b[43m    \u001b[49m\u001b[43mstorage_options\u001b[49m\u001b[38;5;241;43m=\u001b[39;49m\u001b[38;5;28;43mself\u001b[39;49m\u001b[38;5;241;43m.\u001b[39;49m\u001b[43mstorage_options\u001b[49m\u001b[43m,\u001b[49m\n\u001b[0;32m    247\u001b[0m \u001b[43m\u001b[49m\u001b[43m)\u001b[49m \u001b[38;5;28;01mas\u001b[39;00m handles:\n\u001b[0;32m    248\u001b[0m     \u001b[38;5;66;03m# Note: self.encoding is irrelevant here\u001b[39;00m\n\u001b[0;32m    249\u001b[0m     \u001b[38;5;28mself\u001b[39m\u001b[38;5;241m.\u001b[39mwriter \u001b[38;5;241m=\u001b[39m csvlib\u001b[38;5;241m.\u001b[39mwriter(\n\u001b[0;32m    250\u001b[0m         handles\u001b[38;5;241m.\u001b[39mhandle,\n\u001b[0;32m    251\u001b[0m         lineterminator\u001b[38;5;241m=\u001b[39m\u001b[38;5;28mself\u001b[39m\u001b[38;5;241m.\u001b[39mlineterminator,\n\u001b[1;32m   (...)\u001b[0m\n\u001b[0;32m    256\u001b[0m         quotechar\u001b[38;5;241m=\u001b[39m\u001b[38;5;28mself\u001b[39m\u001b[38;5;241m.\u001b[39mquotechar,\n\u001b[0;32m    257\u001b[0m     )\n\u001b[0;32m    259\u001b[0m     \u001b[38;5;28mself\u001b[39m\u001b[38;5;241m.\u001b[39m_save()\n",
      "File \u001b[1;32m~\\AppData\\Local\\Packages\\PythonSoftwareFoundation.Python.3.10_qbz5n2kfra8p0\\LocalCache\\local-packages\\Python310\\site-packages\\pandas\\io\\common.py:859\u001b[0m, in \u001b[0;36mget_handle\u001b[1;34m(path_or_buf, mode, encoding, compression, memory_map, is_text, errors, storage_options)\u001b[0m\n\u001b[0;32m    854\u001b[0m \u001b[38;5;28;01melif\u001b[39;00m \u001b[38;5;28misinstance\u001b[39m(handle, \u001b[38;5;28mstr\u001b[39m):\n\u001b[0;32m    855\u001b[0m     \u001b[38;5;66;03m# Check whether the filename is to be opened in binary mode.\u001b[39;00m\n\u001b[0;32m    856\u001b[0m     \u001b[38;5;66;03m# Binary mode does not support 'encoding' and 'newline'.\u001b[39;00m\n\u001b[0;32m    857\u001b[0m     \u001b[38;5;28;01mif\u001b[39;00m ioargs\u001b[38;5;241m.\u001b[39mencoding \u001b[38;5;129;01mand\u001b[39;00m \u001b[38;5;124m\"\u001b[39m\u001b[38;5;124mb\u001b[39m\u001b[38;5;124m\"\u001b[39m \u001b[38;5;129;01mnot\u001b[39;00m \u001b[38;5;129;01min\u001b[39;00m ioargs\u001b[38;5;241m.\u001b[39mmode:\n\u001b[0;32m    858\u001b[0m         \u001b[38;5;66;03m# Encoding\u001b[39;00m\n\u001b[1;32m--> 859\u001b[0m         handle \u001b[38;5;241m=\u001b[39m \u001b[38;5;28;43mopen\u001b[39;49m\u001b[43m(\u001b[49m\n\u001b[0;32m    860\u001b[0m \u001b[43m            \u001b[49m\u001b[43mhandle\u001b[49m\u001b[43m,\u001b[49m\n\u001b[0;32m    861\u001b[0m \u001b[43m            \u001b[49m\u001b[43mioargs\u001b[49m\u001b[38;5;241;43m.\u001b[39;49m\u001b[43mmode\u001b[49m\u001b[43m,\u001b[49m\n\u001b[0;32m    862\u001b[0m \u001b[43m            \u001b[49m\u001b[43mencoding\u001b[49m\u001b[38;5;241;43m=\u001b[39;49m\u001b[43mioargs\u001b[49m\u001b[38;5;241;43m.\u001b[39;49m\u001b[43mencoding\u001b[49m\u001b[43m,\u001b[49m\n\u001b[0;32m    863\u001b[0m \u001b[43m            \u001b[49m\u001b[43merrors\u001b[49m\u001b[38;5;241;43m=\u001b[39;49m\u001b[43merrors\u001b[49m\u001b[43m,\u001b[49m\n\u001b[0;32m    864\u001b[0m \u001b[43m            \u001b[49m\u001b[43mnewline\u001b[49m\u001b[38;5;241;43m=\u001b[39;49m\u001b[38;5;124;43m\"\u001b[39;49m\u001b[38;5;124;43m\"\u001b[39;49m\u001b[43m,\u001b[49m\n\u001b[0;32m    865\u001b[0m \u001b[43m        \u001b[49m\u001b[43m)\u001b[49m\n\u001b[0;32m    866\u001b[0m     \u001b[38;5;28;01melse\u001b[39;00m:\n\u001b[0;32m    867\u001b[0m         \u001b[38;5;66;03m# Binary mode\u001b[39;00m\n\u001b[0;32m    868\u001b[0m         handle \u001b[38;5;241m=\u001b[39m \u001b[38;5;28mopen\u001b[39m(handle, ioargs\u001b[38;5;241m.\u001b[39mmode)\n",
      "\u001b[1;31mPermissionError\u001b[0m: [Errno 13] Permission denied: 'EdmontonHousingFinal.csv'"
     ]
    }
   ],
   "source": [
    "df.to_csv('EdmontonHousingFinal.csv', index = False)"
   ]
  },
  {
   "cell_type": "markdown",
   "id": "f576abf6-1b7f-4432-84cd-820b74aac906",
   "metadata": {},
   "source": [
    "## **Data Analysis**"
   ]
  },
  {
   "cell_type": "markdown",
   "id": "d0e6697a-f078-4a3e-affd-078e73da847b",
   "metadata": {},
   "source": [
    "#### How many bedroom types are there in Edmonton?"
   ]
  },
  {
   "cell_type": "code",
   "execution_count": 14,
   "id": "c1a843b0-5967-4142-8b24-46fa61a29f8d",
   "metadata": {},
   "outputs": [
    {
     "name": "stdout",
     "output_type": "stream",
     "text": [
      "[ 1  4  5  3  2  6  8  7 10]\n"
     ]
    }
   ],
   "source": [
    "distinct_bedrooms = df['Bedrooms'].unique()\n",
    "print(distinct_bedrooms)"
   ]
  },
  {
   "cell_type": "markdown",
   "id": "9e5dfdc7-ae58-4e8e-9129-a6c2f81f82e6",
   "metadata": {},
   "source": [
    "#### What's the average price of a house in the Glenwood area?"
   ]
  },
  {
   "cell_type": "code",
   "execution_count": 16,
   "id": "d85fa7b3-3f81-42c5-9e15-67f8d69b6e3d",
   "metadata": {},
   "outputs": [
    {
     "name": "stdout",
     "output_type": "stream",
     "text": [
      "380638.75\n"
     ]
    }
   ],
   "source": [
    "avg_price_glenwood = df[df['Community'] == 'Glenwood']['Price'].mean()\n",
    "print(avg_price_glenwood)"
   ]
  },
  {
   "cell_type": "markdown",
   "id": "8bb6c830-274b-4c34-aa19-3fa2d51d66b7",
   "metadata": {},
   "source": [
    "#### Count the number of houses in each community in Edmonton."
   ]
  },
  {
   "cell_type": "code",
   "execution_count": 17,
   "id": "a13c5b0d-8582-476f-8bd8-1581be9f459f",
   "metadata": {},
   "outputs": [
    {
     "name": "stdout",
     "output_type": "stream",
     "text": [
      "          Community  Number of Houses\n",
      "0      Abbottsfield                 4\n",
      "1    Alberta Avenue                34\n",
      "2         Allendale                 8\n",
      "3            Argyll                 2\n",
      "4     Aspen Gardens                 6\n",
      "..              ...               ...\n",
      "145       Westridge                 3\n",
      "146        Westwood                16\n",
      "147    Windsor Park                12\n",
      "148       Woodcroft                 5\n",
      "149            York                 5\n",
      "\n",
      "[150 rows x 2 columns]\n"
     ]
    }
   ],
   "source": [
    "houses_per_community = df.groupby('Community')['Description'].count().reset_index(name='Number of Houses')\n",
    "print(houses_per_community)"
   ]
  },
  {
   "cell_type": "markdown",
   "id": "f92466a3-4b7c-471e-a3ea-b0395a37d563",
   "metadata": {},
   "source": [
    "#### What is the average square footage of houses in the Allendale community?"
   ]
  },
  {
   "cell_type": "code",
   "execution_count": 18,
   "id": "d7ccb6bc-bac3-47c5-9b4f-17e602fd602c",
   "metadata": {},
   "outputs": [
    {
     "name": "stdout",
     "output_type": "stream",
     "text": [
      "1258.375\n"
     ]
    }
   ],
   "source": [
    "avg_sqft_allendale = df[df['Community'] == 'Allendale']['Square Footage'].mean()\n",
    "print(avg_sqft_allendale)"
   ]
  },
  {
   "cell_type": "markdown",
   "id": "698b59f8-4bb4-4f24-968e-b8d3907fb684",
   "metadata": {},
   "source": [
    "#### How many houses have more than 2 bathrooms in the Woodcroft area?"
   ]
  },
  {
   "cell_type": "code",
   "execution_count": 19,
   "id": "793a542d-2795-47d8-bce9-41bfe963042b",
   "metadata": {},
   "outputs": [
    {
     "name": "stdout",
     "output_type": "stream",
     "text": [
      "0\n"
     ]
    }
   ],
   "source": [
    "count_bathrooms_woodcroft = df[(df['Community'] == 'Woodcroft') & (df['Bathrooms'] > 2)].shape[0]\n",
    "print(count_bathrooms_woodcroft)"
   ]
  },
  {
   "cell_type": "markdown",
   "id": "8f5e1c3c-a908-4876-bd38-803bfc1e2321",
   "metadata": {},
   "source": [
    "#### What is the most common type of house style in Edmonton?"
   ]
  },
  {
   "cell_type": "code",
   "execution_count": 26,
   "id": "b9a19ef4-7326-425c-a0fe-136428c6cce4",
   "metadata": {},
   "outputs": [
    {
     "name": "stdout",
     "output_type": "stream",
     "text": [
      "The most common style is '2 Storey' and there are 505 '2 Storey' housing in Edmonton\n"
     ]
    }
   ],
   "source": [
    "style_counts = df['Style'].value_counts()\n",
    "most_common_style = style_counts.idxmax()\n",
    "count_of_most_common_style = style_counts.max()\n",
    "print(f\"The most common style is '{most_common_style}' and there are {count_of_most_common_style} '{most_common_style}' housing in Edmonton\")"
   ]
  },
  {
   "cell_type": "markdown",
   "id": "262b219f-5f91-4f95-a9ac-32687d16513e",
   "metadata": {},
   "source": [
    "#### Calculate the average price of houses built after the year 2000."
   ]
  },
  {
   "cell_type": "code",
   "execution_count": 27,
   "id": "0586b2af-c1c4-4d96-a4ea-c963971dc1ae",
   "metadata": {},
   "outputs": [
    {
     "name": "stdout",
     "output_type": "stream",
     "text": [
      "555753.9102990034\n"
     ]
    }
   ],
   "source": [
    "avg_price_post_2000 = df[df['Year Built'] > 2000]['Price'].mean()\n",
    "print(avg_price_post_2000)"
   ]
  },
  {
   "cell_type": "markdown",
   "id": "9e63606e-744c-45be-8607-2db98666e108",
   "metadata": {},
   "source": [
    "#### Find the minimum and maximum acre size of properties in Edmonton."
   ]
  },
  {
   "cell_type": "code",
   "execution_count": 30,
   "id": "ab9dd998-4985-4c94-b303-1a71a9837fb3",
   "metadata": {},
   "outputs": [
    {
     "name": "stdout",
     "output_type": "stream",
     "text": [
      "Minimum Acres: 0.0, Maximum Acres: 0.46\n"
     ]
    }
   ],
   "source": [
    "min_acres = df['Acres'].min()\n",
    "max_acres = df['Acres'].max()\n",
    "print(f\"Minimum Acres: {min_acres}, Maximum Acres: {max_acres}\")"
   ]
  },
  {
   "cell_type": "markdown",
   "id": "7d48e4ee-16da-4be6-b01b-25000f70b464",
   "metadata": {},
   "source": [
    "#### How many houses have more than 4 parking spaces?"
   ]
  },
  {
   "cell_type": "code",
   "execution_count": 31,
   "id": "8f4702a2-017f-4a29-85a2-fcc8d1f84582",
   "metadata": {},
   "outputs": [
    {
     "name": "stdout",
     "output_type": "stream",
     "text": [
      "58\n"
     ]
    }
   ],
   "source": [
    "count_parking_spaces = df[df['Parking Spaces'] > 4].shape[0]\n",
    "print(count_parking_spaces)"
   ]
  },
  {
   "cell_type": "markdown",
   "id": "58ebd489-921b-4086-8e7d-48f35161b165",
   "metadata": {},
   "source": [
    "#### What is the distribution of the year built for houses in the Caernarvon community?"
   ]
  },
  {
   "cell_type": "code",
   "execution_count": 41,
   "id": "44bd31ca-0f1a-4d05-92e9-2209431c1d8b",
   "metadata": {},
   "outputs": [
    {
     "name": "stdout",
     "output_type": "stream",
     "text": [
      "min    1973\n",
      "max    1976\n",
      "Name: Year Built, dtype: int32\n",
      "Oldest House in Caernarvon was built in 1973 and Newest House in Caernarvon was built in 1976.\n"
     ]
    }
   ],
   "source": [
    "oldest_newest_caernarvon = df[df['Community'] == 'Caernarvon']['Year Built'].agg(['min', 'max'])\n",
    "print(oldest_newest_caernarvon)\n",
    "\n",
    "# or\n",
    "\n",
    "oldest_caernarvon = df[df['Community'] == 'Caernarvon']['Year Built'].min()\n",
    "newest_caernarvon = df[df['Community'] == 'Caernarvon']['Year Built'].max()\n",
    "print(f\"Oldest House in Caernarvon was built in {oldest_caernarvon} and Newest House in Caernarvon was built in {newest_caernarvon}.\")"
   ]
  },
  {
   "cell_type": "markdown",
   "id": "480d4094-43c7-4e73-81ac-7ad599394bc0",
   "metadata": {},
   "source": [
    "#### Identify the top 5 communities with the highest average house prices"
   ]
  },
  {
   "cell_type": "code",
   "execution_count": 42,
   "id": "dcd5cb18-b006-4ef3-9a2d-68171146e71e",
   "metadata": {},
   "outputs": [
    {
     "name": "stdout",
     "output_type": "stream",
     "text": [
      "Community\n",
      "Mill Creek Ravine North    4700000.0\n",
      "Grandview Heights          1570427.0\n",
      "Windsor Park               1376475.0\n",
      "Quesnell Heights           1239700.0\n",
      "Oleskiw                    1225400.0\n",
      "Name: Price, dtype: float64\n"
     ]
    }
   ],
   "source": [
    "top_communities = df.groupby('Community')['Price'].mean().nlargest(5)\n",
    "print(top_communities)"
   ]
  },
  {
   "cell_type": "markdown",
   "id": "7f7db2ab-7012-417e-90e8-0e712dae2782",
   "metadata": {},
   "source": [
    "#### What percentage of houses in Edmonton have a square footage greater than 1000?"
   ]
  },
  {
   "cell_type": "code",
   "execution_count": 49,
   "id": "30612050-f9a1-49a6-9f25-f5e8ca975ba6",
   "metadata": {},
   "outputs": [
    {
     "name": "stdout",
     "output_type": "stream",
     "text": [
      "63.11%\n"
     ]
    }
   ],
   "source": [
    "percentage_over_1000sqft = (df[df['Square Footage'] > 1000].shape[0] / df.shape[0]) * 100\n",
    "formatted_percentage = f\"{percentage_over_1000sqft:.2f}%\"\n",
    "print(formatted_percentage)"
   ]
  },
  {
   "cell_type": "markdown",
   "id": "eccfb094-3ff6-4ecf-82c5-b59fc034a9bd",
   "metadata": {},
   "source": [
    "#### List the sub-types of houses available in Edmonton along with their average prices."
   ]
  },
  {
   "cell_type": "code",
   "execution_count": 51,
   "id": "ad5d8218-c061-4241-83b8-b14e626a5481",
   "metadata": {},
   "outputs": [
    {
     "name": "stdout",
     "output_type": "stream",
     "text": [
      "                              Sub-Type  Average Price\n",
      "0                                4PLEX   1.173268e+06\n",
      "1                  Apartment High Rise   7.385836e+05\n",
      "2                             Carriage   2.162750e+05\n",
      "3                 Detached Condominium   5.750000e+05\n",
      "4                Duplex Front and Back   6.707000e+05\n",
      "5                  Duplex Side By Side   7.285234e+05\n",
      "6                   Duplex Up And Down   1.144933e+06\n",
      "7                          Half Duplex   4.236167e+05\n",
      "8                    Lowrise Apartment   1.967596e+05\n",
      "9                 Residential Attached   4.683034e+05\n",
      "10  Residential Detached Single Family   5.561285e+05\n",
      "11                   Stacked Townhouse   2.069500e+05\n",
      "12                           Townhouse   2.582657e+05\n",
      "13                            Tri-Plex   5.649000e+05\n"
     ]
    }
   ],
   "source": [
    "avg_prices_subtypes = df.groupby('Sub-Type')['Price'].mean().reset_index(name='Average Price')\n",
    "print(avg_prices_subtypes)"
   ]
  },
  {
   "cell_type": "code",
   "execution_count": null,
   "id": "61d6c0b6-c2a8-4d6d-9fce-8fabc735a51e",
   "metadata": {},
   "outputs": [],
   "source": []
  }
 ],
 "metadata": {
  "kernelspec": {
   "display_name": "Python 3 (ipykernel)",
   "language": "python",
   "name": "python3"
  },
  "language_info": {
   "codemirror_mode": {
    "name": "ipython",
    "version": 3
   },
   "file_extension": ".py",
   "mimetype": "text/x-python",
   "name": "python",
   "nbconvert_exporter": "python",
   "pygments_lexer": "ipython3",
   "version": "3.10.11"
  }
 },
 "nbformat": 4,
 "nbformat_minor": 5
}
