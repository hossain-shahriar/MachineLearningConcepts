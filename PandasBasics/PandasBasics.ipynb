{
 "cells": [
  {
   "cell_type": "code",
   "execution_count": 1,
   "id": "12cafedc-a4ed-47bb-8a5f-e3e5f3090c94",
   "metadata": {},
   "outputs": [],
   "source": [
    "import pandas as pd\n",
    "import numpy as np\n",
    "import matplotlib.pyplot as plt\n",
    "%matplotlib inline"
   ]
  },
  {
   "cell_type": "code",
   "execution_count": 2,
   "id": "8c129a8a-05a1-469a-ae00-e90db6715c80",
   "metadata": {},
   "outputs": [],
   "source": [
    "df = pd.read_csv(\"edmonton_housing_data_Feb15_2022.csv\")"
   ]
  },
  {
   "cell_type": "code",
   "execution_count": 3,
   "id": "8cb07d83-6055-497b-95a2-440209028b83",
   "metadata": {},
   "outputs": [
    {
     "data": {
      "text/plain": [
       "Index(['House Description', 'Price', 'Bedrooms', 'Bathrooms', 'Full Baths',\n",
       "       'Square Footage', 'Acres', 'Year Built', 'Type', 'Sub-Type', 'Style',\n",
       "       'Address', 'Area', 'Community', 'Condo', 'City', 'County', 'Province',\n",
       "       'Postal Code', 'Features', 'Parking Spaces', 'Parking', 'Is Waterfront',\n",
       "       'Has Pool', 'Interior', 'Interior Features', 'Heating', 'Fireplace',\n",
       "       '# of Stories', 'Has Basement', 'Basement', 'Separate Entrance',\n",
       "       'Exterior', 'Exterior Features', 'Construction', 'Foundation',\n",
       "       'Elementary', 'Middle', 'High', 'Foreclosure', 'RE / Bank Owned',\n",
       "       'Office', 'Bedrooms Above Grade', '# of Garages', 'Garages',\n",
       "       'Half Baths', 'Fireplaces', 'Zoning', 'Lot Description', 'HOA Fees',\n",
       "       'HOA Fees Freq.', 'Condo Fee'],\n",
       "      dtype='object')"
      ]
     },
     "execution_count": 3,
     "metadata": {},
     "output_type": "execute_result"
    }
   ],
   "source": [
    "df.columns"
   ]
  },
  {
   "cell_type": "code",
   "execution_count": 4,
   "id": "e8ff5771-e038-4d25-91b7-32fb5bdcfbce",
   "metadata": {},
   "outputs": [],
   "source": [
    "df.drop(['House Description', 'Full Baths', 'Condo', 'County', 'Features', 'Parking', 'Is Waterfront',\n",
    "       'Has Pool', 'Interior', 'Interior Features', 'Heating', 'Fireplace',\n",
    "       '# of Stories', 'Has Basement', 'Basement', 'Separate Entrance',\n",
    "       'Exterior', 'Exterior Features', 'Construction', 'Foundation',\n",
    "       'Elementary', 'Middle', 'High', 'Foreclosure', 'RE / Bank Owned',\n",
    "       'Office', 'Bedrooms Above Grade', '# of Garages', 'Garages',\n",
    "       'Half Baths', 'Fireplaces', 'Zoning', 'Lot Description', 'HOA Fees',\n",
    "       'HOA Fees Freq.', 'Condo Fee'], axis = 1, inplace = True)"
   ]
  },
  {
   "cell_type": "code",
   "execution_count": 5,
   "id": "5becd50e-0948-4dd5-9fd3-a729122e2b11",
   "metadata": {},
   "outputs": [
    {
     "data": {
      "text/html": [
       "<div>\n",
       "<style scoped>\n",
       "    .dataframe tbody tr th:only-of-type {\n",
       "        vertical-align: middle;\n",
       "    }\n",
       "\n",
       "    .dataframe tbody tr th {\n",
       "        vertical-align: top;\n",
       "    }\n",
       "\n",
       "    .dataframe thead th {\n",
       "        text-align: right;\n",
       "    }\n",
       "</style>\n",
       "<table border=\"1\" class=\"dataframe\">\n",
       "  <thead>\n",
       "    <tr style=\"text-align: right;\">\n",
       "      <th></th>\n",
       "      <th>Price</th>\n",
       "      <th>Bedrooms</th>\n",
       "      <th>Bathrooms</th>\n",
       "      <th>Square Footage</th>\n",
       "      <th>Acres</th>\n",
       "      <th>Year Built</th>\n",
       "      <th>Type</th>\n",
       "      <th>Sub-Type</th>\n",
       "      <th>Style</th>\n",
       "      <th>Address</th>\n",
       "      <th>Area</th>\n",
       "      <th>Community</th>\n",
       "      <th>City</th>\n",
       "      <th>Province</th>\n",
       "      <th>Postal Code</th>\n",
       "      <th>Parking Spaces</th>\n",
       "    </tr>\n",
       "  </thead>\n",
       "  <tbody>\n",
       "  </tbody>\n",
       "</table>\n",
       "</div>"
      ],
      "text/plain": [
       "Empty DataFrame\n",
       "Columns: [Price, Bedrooms, Bathrooms, Square Footage, Acres, Year Built, Type, Sub-Type, Style, Address, Area, Community, City, Province, Postal Code, Parking Spaces]\n",
       "Index: []"
      ]
     },
     "execution_count": 5,
     "metadata": {},
     "output_type": "execute_result"
    }
   ],
   "source": [
    "df[df['Area'] != df['City']]"
   ]
  },
  {
   "cell_type": "code",
   "execution_count": 6,
   "id": "bd9b6415-558f-4eb8-92ef-263dbd1e8449",
   "metadata": {},
   "outputs": [],
   "source": [
    "df.drop('Area', axis = 1, inplace = True)"
   ]
  },
  {
   "cell_type": "code",
   "execution_count": 7,
   "id": "38952040-8bd0-4179-860c-d0de1b227cd7",
   "metadata": {},
   "outputs": [],
   "source": [
    "df['Parking Spaces'] = df['Parking Spaces'].fillna(0)"
   ]
  },
  {
   "cell_type": "code",
   "execution_count": 8,
   "id": "9be2ea32-4352-4248-bb8d-bbb58beaf46a",
   "metadata": {},
   "outputs": [],
   "source": [
    "df['Province'] = df['Province'].replace('AB','Alberta')"
   ]
  },
  {
   "cell_type": "code",
   "execution_count": 9,
   "id": "0226a4a8-a696-49b8-888a-4f6102add16a",
   "metadata": {},
   "outputs": [],
   "source": [
    "df = df.replace({\n",
    "    'Price' : '[,$]',\n",
    "    'Square Footage' : ','},\n",
    "                '', regex = True)"
   ]
  },
  {
   "cell_type": "code",
   "execution_count": 10,
   "id": "28307782-f9d9-4b0e-ac3d-3334ce83774e",
   "metadata": {},
   "outputs": [],
   "source": [
    "# Change the data types of the specified columns\n",
    "df = df.astype({'Price': float, 'Square Footage': float, 'Acres': float,\n",
    "              'Bedrooms': int, 'Bathrooms': int, 'Year Built': int})"
   ]
  },
  {
   "cell_type": "code",
   "execution_count": 11,
   "id": "7c1f4378-2a0e-45cd-9924-1f228c17bfe7",
   "metadata": {},
   "outputs": [],
   "source": [
    "df['Description'] = df['Bedrooms'].astype(str) + \" Bedrooms \" + df['Bathrooms'].astype(str) + \" Bathrooms \" + df['Style']\n",
    "df.insert(0, 'Description', df.pop('Description'))"
   ]
  },
  {
   "cell_type": "code",
   "execution_count": 12,
   "id": "31f1a7f1-4cbc-4ae5-93d3-603ee35138d6",
   "metadata": {},
   "outputs": [
    {
     "data": {
      "text/html": [
       "<div>\n",
       "<style scoped>\n",
       "    .dataframe tbody tr th:only-of-type {\n",
       "        vertical-align: middle;\n",
       "    }\n",
       "\n",
       "    .dataframe tbody tr th {\n",
       "        vertical-align: top;\n",
       "    }\n",
       "\n",
       "    .dataframe thead th {\n",
       "        text-align: right;\n",
       "    }\n",
       "</style>\n",
       "<table border=\"1\" class=\"dataframe\">\n",
       "  <thead>\n",
       "    <tr style=\"text-align: right;\">\n",
       "      <th></th>\n",
       "      <th>Description</th>\n",
       "      <th>Price</th>\n",
       "      <th>Bedrooms</th>\n",
       "      <th>Bathrooms</th>\n",
       "      <th>Square Footage</th>\n",
       "      <th>Acres</th>\n",
       "      <th>Year Built</th>\n",
       "      <th>Type</th>\n",
       "      <th>Sub-Type</th>\n",
       "      <th>Style</th>\n",
       "      <th>Address</th>\n",
       "      <th>Community</th>\n",
       "      <th>City</th>\n",
       "      <th>Province</th>\n",
       "      <th>Postal Code</th>\n",
       "      <th>Parking Spaces</th>\n",
       "    </tr>\n",
       "  </thead>\n",
       "  <tbody>\n",
       "    <tr>\n",
       "      <th>0</th>\n",
       "      <td>1 Bedrooms 1 Bathrooms Bungalow</td>\n",
       "      <td>399990.0</td>\n",
       "      <td>1</td>\n",
       "      <td>1</td>\n",
       "      <td>787.0</td>\n",
       "      <td>0.12</td>\n",
       "      <td>1948</td>\n",
       "      <td>Single Family</td>\n",
       "      <td>Residential Detached Single Family</td>\n",
       "      <td>Bungalow</td>\n",
       "      <td>15915 100a Avenue Nw</td>\n",
       "      <td>Glenwood</td>\n",
       "      <td>Edmonton</td>\n",
       "      <td>Alberta</td>\n",
       "      <td>T5P 0L7</td>\n",
       "      <td>8.0</td>\n",
       "    </tr>\n",
       "    <tr>\n",
       "      <th>1</th>\n",
       "      <td>4 Bedrooms 2 Bathrooms Bungalow</td>\n",
       "      <td>357000.0</td>\n",
       "      <td>4</td>\n",
       "      <td>2</td>\n",
       "      <td>929.0</td>\n",
       "      <td>0.15</td>\n",
       "      <td>1954</td>\n",
       "      <td>Single Family</td>\n",
       "      <td>Residential Detached Single Family</td>\n",
       "      <td>Bungalow</td>\n",
       "      <td>11540 140 Street Nw</td>\n",
       "      <td>Woodcroft</td>\n",
       "      <td>Edmonton</td>\n",
       "      <td>Alberta</td>\n",
       "      <td>T5M 1S7</td>\n",
       "      <td>0.0</td>\n",
       "    </tr>\n",
       "    <tr>\n",
       "      <th>2</th>\n",
       "      <td>5 Bedrooms 2 Bathrooms Bungalow</td>\n",
       "      <td>499600.0</td>\n",
       "      <td>5</td>\n",
       "      <td>2</td>\n",
       "      <td>1161.0</td>\n",
       "      <td>0.14</td>\n",
       "      <td>1959</td>\n",
       "      <td>Single Family</td>\n",
       "      <td>Residential Detached Single Family</td>\n",
       "      <td>Bungalow</td>\n",
       "      <td>10431 68 Avenue Nw</td>\n",
       "      <td>Allendale</td>\n",
       "      <td>Edmonton</td>\n",
       "      <td>Alberta</td>\n",
       "      <td>T6H 2A8</td>\n",
       "      <td>2.0</td>\n",
       "    </tr>\n",
       "    <tr>\n",
       "      <th>3</th>\n",
       "      <td>4 Bedrooms 3 Bathrooms Bungalow</td>\n",
       "      <td>398800.0</td>\n",
       "      <td>4</td>\n",
       "      <td>3</td>\n",
       "      <td>1217.0</td>\n",
       "      <td>0.15</td>\n",
       "      <td>1976</td>\n",
       "      <td>Single Family</td>\n",
       "      <td>Residential Detached Single Family</td>\n",
       "      <td>Bungalow</td>\n",
       "      <td>12112 146 Avenue Nw</td>\n",
       "      <td>Caernarvon</td>\n",
       "      <td>Edmonton</td>\n",
       "      <td>Alberta</td>\n",
       "      <td>T5X 1V3</td>\n",
       "      <td>6.0</td>\n",
       "    </tr>\n",
       "    <tr>\n",
       "      <th>4</th>\n",
       "      <td>3 Bedrooms 2 Bathrooms Bungalow</td>\n",
       "      <td>279900.0</td>\n",
       "      <td>3</td>\n",
       "      <td>2</td>\n",
       "      <td>1160.0</td>\n",
       "      <td>0.00</td>\n",
       "      <td>1979</td>\n",
       "      <td>Single Family</td>\n",
       "      <td>Residential Detached Single Family</td>\n",
       "      <td>Bungalow</td>\n",
       "      <td>11945 52 Street Nw</td>\n",
       "      <td>Newton</td>\n",
       "      <td>Edmonton</td>\n",
       "      <td>Alberta</td>\n",
       "      <td>T5W 3J5</td>\n",
       "      <td>0.0</td>\n",
       "    </tr>\n",
       "    <tr>\n",
       "      <th>...</th>\n",
       "      <td>...</td>\n",
       "      <td>...</td>\n",
       "      <td>...</td>\n",
       "      <td>...</td>\n",
       "      <td>...</td>\n",
       "      <td>...</td>\n",
       "      <td>...</td>\n",
       "      <td>...</td>\n",
       "      <td>...</td>\n",
       "      <td>...</td>\n",
       "      <td>...</td>\n",
       "      <td>...</td>\n",
       "      <td>...</td>\n",
       "      <td>...</td>\n",
       "      <td>...</td>\n",
       "      <td>...</td>\n",
       "    </tr>\n",
       "    <tr>\n",
       "      <th>1692</th>\n",
       "      <td>6 Bedrooms 2 Bathrooms Bungalow</td>\n",
       "      <td>399900.0</td>\n",
       "      <td>6</td>\n",
       "      <td>2</td>\n",
       "      <td>1227.0</td>\n",
       "      <td>0.17</td>\n",
       "      <td>1960</td>\n",
       "      <td>Single Family</td>\n",
       "      <td>Duplex Up And Down</td>\n",
       "      <td>Bungalow</td>\n",
       "      <td>12939 12941 102 Street Nw</td>\n",
       "      <td>Lauderdale</td>\n",
       "      <td>Edmonton</td>\n",
       "      <td>Alberta</td>\n",
       "      <td>T5E 4J4</td>\n",
       "      <td>0.0</td>\n",
       "    </tr>\n",
       "    <tr>\n",
       "      <th>1693</th>\n",
       "      <td>6 Bedrooms 6 Bathrooms 2 Storey Split</td>\n",
       "      <td>2795000.0</td>\n",
       "      <td>6</td>\n",
       "      <td>6</td>\n",
       "      <td>4593.0</td>\n",
       "      <td>0.13</td>\n",
       "      <td>2004</td>\n",
       "      <td>Condo / Townhouse</td>\n",
       "      <td>Duplex Up And Down</td>\n",
       "      <td>2 Storey Split</td>\n",
       "      <td>10521/10519 Saskatchewan Drive Nw Nw</td>\n",
       "      <td>Strathcona</td>\n",
       "      <td>Edmonton</td>\n",
       "      <td>Alberta</td>\n",
       "      <td>T6E 4S1</td>\n",
       "      <td>0.0</td>\n",
       "    </tr>\n",
       "    <tr>\n",
       "      <th>1694</th>\n",
       "      <td>6 Bedrooms 2 Bathrooms 2 and Half Storey</td>\n",
       "      <td>239900.0</td>\n",
       "      <td>6</td>\n",
       "      <td>2</td>\n",
       "      <td>1783.0</td>\n",
       "      <td>0.00</td>\n",
       "      <td>1917</td>\n",
       "      <td>Single Family</td>\n",
       "      <td>Duplex Up And Down</td>\n",
       "      <td>2 and Half Storey</td>\n",
       "      <td>11503 95a Street Nw</td>\n",
       "      <td>Alberta Avenue</td>\n",
       "      <td>Edmonton</td>\n",
       "      <td>Alberta</td>\n",
       "      <td>T5G 1P6</td>\n",
       "      <td>0.0</td>\n",
       "    </tr>\n",
       "    <tr>\n",
       "      <th>1695</th>\n",
       "      <td>4 Bedrooms 9 Bathrooms 2 Storey</td>\n",
       "      <td>839900.0</td>\n",
       "      <td>4</td>\n",
       "      <td>9</td>\n",
       "      <td>3445.0</td>\n",
       "      <td>0.05</td>\n",
       "      <td>2017</td>\n",
       "      <td>Condo / Townhouse</td>\n",
       "      <td>Tri-Plex</td>\n",
       "      <td>2 Storey</td>\n",
       "      <td>11949 58 Street Nw</td>\n",
       "      <td>Newton</td>\n",
       "      <td>Edmonton</td>\n",
       "      <td>Alberta</td>\n",
       "      <td>T5W 3X1</td>\n",
       "      <td>0.0</td>\n",
       "    </tr>\n",
       "    <tr>\n",
       "      <th>1696</th>\n",
       "      <td>7 Bedrooms 3 Bathrooms 2 Storey</td>\n",
       "      <td>289900.0</td>\n",
       "      <td>7</td>\n",
       "      <td>3</td>\n",
       "      <td>2100.0</td>\n",
       "      <td>0.13</td>\n",
       "      <td>1916</td>\n",
       "      <td>Single Family</td>\n",
       "      <td>Tri-Plex</td>\n",
       "      <td>2 Storey</td>\n",
       "      <td>12741 69 Street Nw</td>\n",
       "      <td>Balwin</td>\n",
       "      <td>Edmonton</td>\n",
       "      <td>Alberta</td>\n",
       "      <td>T5C 0H1</td>\n",
       "      <td>6.0</td>\n",
       "    </tr>\n",
       "  </tbody>\n",
       "</table>\n",
       "<p>1697 rows × 16 columns</p>\n",
       "</div>"
      ],
      "text/plain": [
       "                                   Description      Price  Bedrooms  \\\n",
       "0              1 Bedrooms 1 Bathrooms Bungalow   399990.0         1   \n",
       "1              4 Bedrooms 2 Bathrooms Bungalow   357000.0         4   \n",
       "2              5 Bedrooms 2 Bathrooms Bungalow   499600.0         5   \n",
       "3              4 Bedrooms 3 Bathrooms Bungalow   398800.0         4   \n",
       "4              3 Bedrooms 2 Bathrooms Bungalow   279900.0         3   \n",
       "...                                        ...        ...       ...   \n",
       "1692           6 Bedrooms 2 Bathrooms Bungalow   399900.0         6   \n",
       "1693     6 Bedrooms 6 Bathrooms 2 Storey Split  2795000.0         6   \n",
       "1694  6 Bedrooms 2 Bathrooms 2 and Half Storey   239900.0         6   \n",
       "1695           4 Bedrooms 9 Bathrooms 2 Storey   839900.0         4   \n",
       "1696           7 Bedrooms 3 Bathrooms 2 Storey   289900.0         7   \n",
       "\n",
       "      Bathrooms  Square Footage  Acres  Year Built               Type  \\\n",
       "0             1           787.0   0.12        1948      Single Family   \n",
       "1             2           929.0   0.15        1954      Single Family   \n",
       "2             2          1161.0   0.14        1959      Single Family   \n",
       "3             3          1217.0   0.15        1976      Single Family   \n",
       "4             2          1160.0   0.00        1979      Single Family   \n",
       "...         ...             ...    ...         ...                ...   \n",
       "1692          2          1227.0   0.17        1960      Single Family   \n",
       "1693          6          4593.0   0.13        2004  Condo / Townhouse   \n",
       "1694          2          1783.0   0.00        1917      Single Family   \n",
       "1695          9          3445.0   0.05        2017  Condo / Townhouse   \n",
       "1696          3          2100.0   0.13        1916      Single Family   \n",
       "\n",
       "                                Sub-Type              Style  \\\n",
       "0     Residential Detached Single Family           Bungalow   \n",
       "1     Residential Detached Single Family           Bungalow   \n",
       "2     Residential Detached Single Family           Bungalow   \n",
       "3     Residential Detached Single Family           Bungalow   \n",
       "4     Residential Detached Single Family           Bungalow   \n",
       "...                                  ...                ...   \n",
       "1692                  Duplex Up And Down           Bungalow   \n",
       "1693                  Duplex Up And Down     2 Storey Split   \n",
       "1694                  Duplex Up And Down  2 and Half Storey   \n",
       "1695                            Tri-Plex           2 Storey   \n",
       "1696                            Tri-Plex           2 Storey   \n",
       "\n",
       "                                   Address       Community      City Province  \\\n",
       "0                     15915 100a Avenue Nw        Glenwood  Edmonton  Alberta   \n",
       "1                      11540 140 Street Nw       Woodcroft  Edmonton  Alberta   \n",
       "2                       10431 68 Avenue Nw       Allendale  Edmonton  Alberta   \n",
       "3                      12112 146 Avenue Nw      Caernarvon  Edmonton  Alberta   \n",
       "4                       11945 52 Street Nw          Newton  Edmonton  Alberta   \n",
       "...                                    ...             ...       ...      ...   \n",
       "1692             12939 12941 102 Street Nw      Lauderdale  Edmonton  Alberta   \n",
       "1693  10521/10519 Saskatchewan Drive Nw Nw      Strathcona  Edmonton  Alberta   \n",
       "1694                   11503 95a Street Nw  Alberta Avenue  Edmonton  Alberta   \n",
       "1695                    11949 58 Street Nw          Newton  Edmonton  Alberta   \n",
       "1696                    12741 69 Street Nw          Balwin  Edmonton  Alberta   \n",
       "\n",
       "     Postal Code  Parking Spaces  \n",
       "0        T5P 0L7             8.0  \n",
       "1        T5M 1S7             0.0  \n",
       "2        T6H 2A8             2.0  \n",
       "3        T5X 1V3             6.0  \n",
       "4        T5W 3J5             0.0  \n",
       "...          ...             ...  \n",
       "1692     T5E 4J4             0.0  \n",
       "1693     T6E 4S1             0.0  \n",
       "1694     T5G 1P6             0.0  \n",
       "1695     T5W 3X1             0.0  \n",
       "1696     T5C 0H1             6.0  \n",
       "\n",
       "[1697 rows x 16 columns]"
      ]
     },
     "execution_count": 12,
     "metadata": {},
     "output_type": "execute_result"
    }
   ],
   "source": [
    "df"
   ]
  },
  {
   "cell_type": "code",
   "execution_count": 13,
   "id": "af2d54ee-8b64-44dc-8aee-2f9076df5b73",
   "metadata": {},
   "outputs": [],
   "source": [
    "result = df.groupby('Bedrooms')['Price'].mean().reset_index()\n",
    "\n",
    "# Rename the 'Value' column to 'Average' (optional)\n",
    "result = result.rename(columns={'Price': 'Average'})"
   ]
  },
  {
   "cell_type": "code",
   "execution_count": 14,
   "id": "6c3bb71d-61f8-4a67-b284-0136e0540c39",
   "metadata": {},
   "outputs": [
    {
     "data": {
      "text/plain": [
       "[<matplotlib.lines.Line2D at 0x295074287d0>]"
      ]
     },
     "execution_count": 14,
     "metadata": {},
     "output_type": "execute_result"
    },
    {
     "data": {
      "image/png": "[encoded data removed]",
      "text/plain": [
       "<Figure size 640x480 with 1 Axes>"
      ]
     },
     "metadata": {},
     "output_type": "display_data"
    }
   ],
   "source": [
    "plt.plot(result['Bedrooms'],result['Average'])"
   ]
  },
  {
   "cell_type": "code",
   "execution_count": 15,
   "id": "c635cc6d-a1c5-49ce-a349-85b74923c477",
   "metadata": {},
   "outputs": [
    {
     "data": {
      "text/html": [
       "<div>\n",
       "<style scoped>\n",
       "    .dataframe tbody tr th:only-of-type {\n",
       "        vertical-align: middle;\n",
       "    }\n",
       "\n",
       "    .dataframe tbody tr th {\n",
       "        vertical-align: top;\n",
       "    }\n",
       "\n",
       "    .dataframe thead th {\n",
       "        text-align: right;\n",
       "    }\n",
       "</style>\n",
       "<table border=\"1\" class=\"dataframe\">\n",
       "  <thead>\n",
       "    <tr style=\"text-align: right;\">\n",
       "      <th></th>\n",
       "      <th>Bedrooms</th>\n",
       "      <th>Average</th>\n",
       "    </tr>\n",
       "  </thead>\n",
       "  <tbody>\n",
       "    <tr>\n",
       "      <th>0</th>\n",
       "      <td>1</td>\n",
       "      <td>1.911962e+05</td>\n",
       "    </tr>\n",
       "    <tr>\n",
       "      <th>1</th>\n",
       "      <td>2</td>\n",
       "      <td>2.540679e+05</td>\n",
       "    </tr>\n",
       "    <tr>\n",
       "      <th>2</th>\n",
       "      <td>3</td>\n",
       "      <td>4.118846e+05</td>\n",
       "    </tr>\n",
       "    <tr>\n",
       "      <th>3</th>\n",
       "      <td>4</td>\n",
       "      <td>5.828212e+05</td>\n",
       "    </tr>\n",
       "    <tr>\n",
       "      <th>4</th>\n",
       "      <td>5</td>\n",
       "      <td>6.522777e+05</td>\n",
       "    </tr>\n",
       "    <tr>\n",
       "      <th>5</th>\n",
       "      <td>6</td>\n",
       "      <td>1.022421e+06</td>\n",
       "    </tr>\n",
       "    <tr>\n",
       "      <th>6</th>\n",
       "      <td>7</td>\n",
       "      <td>6.847500e+05</td>\n",
       "    </tr>\n",
       "    <tr>\n",
       "      <th>7</th>\n",
       "      <td>8</td>\n",
       "      <td>8.235920e+05</td>\n",
       "    </tr>\n",
       "    <tr>\n",
       "      <th>8</th>\n",
       "      <td>10</td>\n",
       "      <td>7.196000e+05</td>\n",
       "    </tr>\n",
       "  </tbody>\n",
       "</table>\n",
       "</div>"
      ],
      "text/plain": [
       "   Bedrooms       Average\n",
       "0         1  1.911962e+05\n",
       "1         2  2.540679e+05\n",
       "2         3  4.118846e+05\n",
       "3         4  5.828212e+05\n",
       "4         5  6.522777e+05\n",
       "5         6  1.022421e+06\n",
       "6         7  6.847500e+05\n",
       "7         8  8.235920e+05\n",
       "8        10  7.196000e+05"
      ]
     },
     "execution_count": 15,
     "metadata": {},
     "output_type": "execute_result"
    }
   ],
   "source": [
    "result"
   ]
  },
  {
   "cell_type": "code",
   "execution_count": 16,
   "id": "b5908180-a4db-4612-887c-1361b05252ff",
   "metadata": {},
   "outputs": [],
   "source": [
    "df2 = result.iloc[0:5]"
   ]
  },
  {
   "cell_type": "code",
   "execution_count": 17,
   "id": "10cef62a-f3ee-4c16-b067-3201a484bc9d",
   "metadata": {},
   "outputs": [
    {
     "name": "stderr",
     "output_type": "stream",
     "text": [
      "C:\\Users\\Fahim\\AppData\\Local\\Temp\\ipykernel_17196\\3430027821.py:1: SettingWithCopyWarning: \n",
      "A value is trying to be set on a copy of a slice from a DataFrame.\n",
      "Try using .loc[row_indexer,col_indexer] = value instead\n",
      "\n",
      "See the caveats in the documentation: https://pandas.pydata.org/pandas-docs/stable/user_guide/indexing.html#returning-a-view-versus-a-copy\n",
      "  df2['Highest'] = df2['Average'].max()\n"
     ]
    }
   ],
   "source": [
    "df2['Highest'] = df2['Average'].max()"
   ]
  },
  {
   "cell_type": "code",
   "execution_count": 18,
   "id": "f47017c0-76fd-44d2-ba3b-4ef79ad4eae2",
   "metadata": {},
   "outputs": [],
   "source": [
    "df2 = df2.drop(\"Average\", axis=1)"
   ]
  },
  {
   "cell_type": "code",
   "execution_count": 19,
   "id": "af137826-0f5a-4602-a126-25939f94fdcb",
   "metadata": {},
   "outputs": [
    {
     "data": {
      "text/html": [
       "<div>\n",
       "<style scoped>\n",
       "    .dataframe tbody tr th:only-of-type {\n",
       "        vertical-align: middle;\n",
       "    }\n",
       "\n",
       "    .dataframe tbody tr th {\n",
       "        vertical-align: top;\n",
       "    }\n",
       "\n",
       "    .dataframe thead th {\n",
       "        text-align: right;\n",
       "    }\n",
       "</style>\n",
       "<table border=\"1\" class=\"dataframe\">\n",
       "  <thead>\n",
       "    <tr style=\"text-align: right;\">\n",
       "      <th></th>\n",
       "      <th>Bedrooms</th>\n",
       "      <th>Highest</th>\n",
       "    </tr>\n",
       "  </thead>\n",
       "  <tbody>\n",
       "    <tr>\n",
       "      <th>0</th>\n",
       "      <td>1</td>\n",
       "      <td>652277.71831</td>\n",
       "    </tr>\n",
       "    <tr>\n",
       "      <th>1</th>\n",
       "      <td>2</td>\n",
       "      <td>652277.71831</td>\n",
       "    </tr>\n",
       "    <tr>\n",
       "      <th>2</th>\n",
       "      <td>3</td>\n",
       "      <td>652277.71831</td>\n",
       "    </tr>\n",
       "    <tr>\n",
       "      <th>3</th>\n",
       "      <td>4</td>\n",
       "      <td>652277.71831</td>\n",
       "    </tr>\n",
       "    <tr>\n",
       "      <th>4</th>\n",
       "      <td>5</td>\n",
       "      <td>652277.71831</td>\n",
       "    </tr>\n",
       "  </tbody>\n",
       "</table>\n",
       "</div>"
      ],
      "text/plain": [
       "   Bedrooms       Highest\n",
       "0         1  652277.71831\n",
       "1         2  652277.71831\n",
       "2         3  652277.71831\n",
       "3         4  652277.71831\n",
       "4         5  652277.71831"
      ]
     },
     "execution_count": 19,
     "metadata": {},
     "output_type": "execute_result"
    }
   ],
   "source": [
    "df2"
   ]
  },
  {
   "cell_type": "code",
   "execution_count": 20,
   "id": "72ff802c-553b-41cb-bfc9-5157ee723d5b",
   "metadata": {},
   "outputs": [],
   "source": [
    "df3 = result.iloc[5:9]"
   ]
  },
  {
   "cell_type": "code",
   "execution_count": 21,
   "id": "c288de43-b322-404b-bcff-f35ecb912967",
   "metadata": {},
   "outputs": [
    {
     "data": {
      "text/html": [
       "<div>\n",
       "<style scoped>\n",
       "    .dataframe tbody tr th:only-of-type {\n",
       "        vertical-align: middle;\n",
       "    }\n",
       "\n",
       "    .dataframe tbody tr th {\n",
       "        vertical-align: top;\n",
       "    }\n",
       "\n",
       "    .dataframe thead th {\n",
       "        text-align: right;\n",
       "    }\n",
       "</style>\n",
       "<table border=\"1\" class=\"dataframe\">\n",
       "  <thead>\n",
       "    <tr style=\"text-align: right;\">\n",
       "      <th></th>\n",
       "      <th>Bedrooms</th>\n",
       "      <th>Average</th>\n",
       "    </tr>\n",
       "  </thead>\n",
       "  <tbody>\n",
       "    <tr>\n",
       "      <th>5</th>\n",
       "      <td>6</td>\n",
       "      <td>1.022421e+06</td>\n",
       "    </tr>\n",
       "    <tr>\n",
       "      <th>6</th>\n",
       "      <td>7</td>\n",
       "      <td>6.847500e+05</td>\n",
       "    </tr>\n",
       "    <tr>\n",
       "      <th>7</th>\n",
       "      <td>8</td>\n",
       "      <td>8.235920e+05</td>\n",
       "    </tr>\n",
       "    <tr>\n",
       "      <th>8</th>\n",
       "      <td>10</td>\n",
       "      <td>7.196000e+05</td>\n",
       "    </tr>\n",
       "  </tbody>\n",
       "</table>\n",
       "</div>"
      ],
      "text/plain": [
       "   Bedrooms       Average\n",
       "5         6  1.022421e+06\n",
       "6         7  6.847500e+05\n",
       "7         8  8.235920e+05\n",
       "8        10  7.196000e+05"
      ]
     },
     "execution_count": 21,
     "metadata": {},
     "output_type": "execute_result"
    }
   ],
   "source": [
    "df3"
   ]
  },
  {
   "cell_type": "code",
   "execution_count": 22,
   "id": "fbf389fc-e4ff-490f-b7a1-e41cf0275feb",
   "metadata": {},
   "outputs": [
    {
     "name": "stderr",
     "output_type": "stream",
     "text": [
      "C:\\Users\\Fahim\\AppData\\Local\\Temp\\ipykernel_17196\\3275966755.py:1: SettingWithCopyWarning: \n",
      "A value is trying to be set on a copy of a slice from a DataFrame\n",
      "\n",
      "See the caveats in the documentation: https://pandas.pydata.org/pandas-docs/stable/user_guide/indexing.html#returning-a-view-versus-a-copy\n",
      "  df3.loc[len(df3)] = [11, df3[\"Average\"].mean()]\n"
     ]
    }
   ],
   "source": [
    "df3.loc[len(df3)] = [11, df3[\"Average\"].mean()]\n",
    "df3 = df3.reset_index(drop=True)"
   ]
  },
  {
   "cell_type": "code",
   "execution_count": 23,
   "id": "f065d393-582c-4984-b91f-f9f00394c9ff",
   "metadata": {},
   "outputs": [
    {
     "data": {
      "text/html": [
       "<div>\n",
       "<style scoped>\n",
       "    .dataframe tbody tr th:only-of-type {\n",
       "        vertical-align: middle;\n",
       "    }\n",
       "\n",
       "    .dataframe tbody tr th {\n",
       "        vertical-align: top;\n",
       "    }\n",
       "\n",
       "    .dataframe thead th {\n",
       "        text-align: right;\n",
       "    }\n",
       "</style>\n",
       "<table border=\"1\" class=\"dataframe\">\n",
       "  <thead>\n",
       "    <tr style=\"text-align: right;\">\n",
       "      <th></th>\n",
       "      <th>Bedrooms</th>\n",
       "      <th>Average</th>\n",
       "    </tr>\n",
       "  </thead>\n",
       "  <tbody>\n",
       "    <tr>\n",
       "      <th>0</th>\n",
       "      <td>6.0</td>\n",
       "      <td>1.022421e+06</td>\n",
       "    </tr>\n",
       "    <tr>\n",
       "      <th>1</th>\n",
       "      <td>7.0</td>\n",
       "      <td>6.847500e+05</td>\n",
       "    </tr>\n",
       "    <tr>\n",
       "      <th>2</th>\n",
       "      <td>8.0</td>\n",
       "      <td>8.235920e+05</td>\n",
       "    </tr>\n",
       "    <tr>\n",
       "      <th>3</th>\n",
       "      <td>10.0</td>\n",
       "      <td>7.196000e+05</td>\n",
       "    </tr>\n",
       "    <tr>\n",
       "      <th>4</th>\n",
       "      <td>11.0</td>\n",
       "      <td>8.125906e+05</td>\n",
       "    </tr>\n",
       "  </tbody>\n",
       "</table>\n",
       "</div>"
      ],
      "text/plain": [
       "   Bedrooms       Average\n",
       "0       6.0  1.022421e+06\n",
       "1       7.0  6.847500e+05\n",
       "2       8.0  8.235920e+05\n",
       "3      10.0  7.196000e+05\n",
       "4      11.0  8.125906e+05"
      ]
     },
     "execution_count": 23,
     "metadata": {},
     "output_type": "execute_result"
    }
   ],
   "source": [
    "df3"
   ]
  },
  {
   "cell_type": "code",
   "execution_count": 24,
   "id": "8b9eb0fa-268c-4535-b843-e42db0a6c514",
   "metadata": {},
   "outputs": [
    {
     "data": {
      "text/plain": [
       "dtype('float64')"
      ]
     },
     "execution_count": 24,
     "metadata": {},
     "output_type": "execute_result"
    }
   ],
   "source": [
    "df3.Bedrooms.dtype"
   ]
  },
  {
   "cell_type": "code",
   "execution_count": 25,
   "id": "dc6c90b2-0593-46ab-9235-3b0667068b3b",
   "metadata": {},
   "outputs": [],
   "source": [
    "df3.Bedrooms = df3.Bedrooms.astype(int)"
   ]
  },
  {
   "cell_type": "code",
   "execution_count": 26,
   "id": "eb1f1c5d-55fa-4437-9cf5-a0f5df1b7a90",
   "metadata": {},
   "outputs": [
    {
     "data": {
      "text/html": [
       "<div>\n",
       "<style scoped>\n",
       "    .dataframe tbody tr th:only-of-type {\n",
       "        vertical-align: middle;\n",
       "    }\n",
       "\n",
       "    .dataframe tbody tr th {\n",
       "        vertical-align: top;\n",
       "    }\n",
       "\n",
       "    .dataframe thead th {\n",
       "        text-align: right;\n",
       "    }\n",
       "</style>\n",
       "<table border=\"1\" class=\"dataframe\">\n",
       "  <thead>\n",
       "    <tr style=\"text-align: right;\">\n",
       "      <th></th>\n",
       "      <th>Bedrooms</th>\n",
       "      <th>Highest</th>\n",
       "    </tr>\n",
       "  </thead>\n",
       "  <tbody>\n",
       "    <tr>\n",
       "      <th>0</th>\n",
       "      <td>1</td>\n",
       "      <td>652277.71831</td>\n",
       "    </tr>\n",
       "    <tr>\n",
       "      <th>1</th>\n",
       "      <td>2</td>\n",
       "      <td>652277.71831</td>\n",
       "    </tr>\n",
       "    <tr>\n",
       "      <th>2</th>\n",
       "      <td>3</td>\n",
       "      <td>652277.71831</td>\n",
       "    </tr>\n",
       "    <tr>\n",
       "      <th>3</th>\n",
       "      <td>4</td>\n",
       "      <td>652277.71831</td>\n",
       "    </tr>\n",
       "    <tr>\n",
       "      <th>4</th>\n",
       "      <td>5</td>\n",
       "      <td>652277.71831</td>\n",
       "    </tr>\n",
       "  </tbody>\n",
       "</table>\n",
       "</div>"
      ],
      "text/plain": [
       "   Bedrooms       Highest\n",
       "0         1  652277.71831\n",
       "1         2  652277.71831\n",
       "2         3  652277.71831\n",
       "3         4  652277.71831\n",
       "4         5  652277.71831"
      ]
     },
     "execution_count": 26,
     "metadata": {},
     "output_type": "execute_result"
    }
   ],
   "source": [
    "df2"
   ]
  },
  {
   "cell_type": "code",
   "execution_count": 27,
   "id": "3e9f09ca-2d72-401f-980f-6b24a9cd9e3f",
   "metadata": {},
   "outputs": [
    {
     "data": {
      "text/html": [
       "<div>\n",
       "<style scoped>\n",
       "    .dataframe tbody tr th:only-of-type {\n",
       "        vertical-align: middle;\n",
       "    }\n",
       "\n",
       "    .dataframe tbody tr th {\n",
       "        vertical-align: top;\n",
       "    }\n",
       "\n",
       "    .dataframe thead th {\n",
       "        text-align: right;\n",
       "    }\n",
       "</style>\n",
       "<table border=\"1\" class=\"dataframe\">\n",
       "  <thead>\n",
       "    <tr style=\"text-align: right;\">\n",
       "      <th></th>\n",
       "      <th>Bedrooms</th>\n",
       "      <th>Average</th>\n",
       "    </tr>\n",
       "  </thead>\n",
       "  <tbody>\n",
       "    <tr>\n",
       "      <th>0</th>\n",
       "      <td>6</td>\n",
       "      <td>1.022421e+06</td>\n",
       "    </tr>\n",
       "    <tr>\n",
       "      <th>1</th>\n",
       "      <td>7</td>\n",
       "      <td>6.847500e+05</td>\n",
       "    </tr>\n",
       "    <tr>\n",
       "      <th>2</th>\n",
       "      <td>8</td>\n",
       "      <td>8.235920e+05</td>\n",
       "    </tr>\n",
       "    <tr>\n",
       "      <th>3</th>\n",
       "      <td>10</td>\n",
       "      <td>7.196000e+05</td>\n",
       "    </tr>\n",
       "    <tr>\n",
       "      <th>4</th>\n",
       "      <td>11</td>\n",
       "      <td>8.125906e+05</td>\n",
       "    </tr>\n",
       "  </tbody>\n",
       "</table>\n",
       "</div>"
      ],
      "text/plain": [
       "   Bedrooms       Average\n",
       "0         6  1.022421e+06\n",
       "1         7  6.847500e+05\n",
       "2         8  8.235920e+05\n",
       "3        10  7.196000e+05\n",
       "4        11  8.125906e+05"
      ]
     },
     "execution_count": 27,
     "metadata": {},
     "output_type": "execute_result"
    }
   ],
   "source": [
    "df3"
   ]
  },
  {
   "cell_type": "code",
   "execution_count": 28,
   "id": "91f6e3cb-4814-4f57-b00a-4699764f4e59",
   "metadata": {},
   "outputs": [],
   "source": [
    "df4 = pd.concat([df2,df3], axis=1)"
   ]
  },
  {
   "cell_type": "code",
   "execution_count": 29,
   "id": "fb2dde72-0978-4199-b0c4-b2f6ae20e005",
   "metadata": {},
   "outputs": [
    {
     "data": {
      "text/html": [
       "<div>\n",
       "<style scoped>\n",
       "    .dataframe tbody tr th:only-of-type {\n",
       "        vertical-align: middle;\n",
       "    }\n",
       "\n",
       "    .dataframe tbody tr th {\n",
       "        vertical-align: top;\n",
       "    }\n",
       "\n",
       "    .dataframe thead th {\n",
       "        text-align: right;\n",
       "    }\n",
       "</style>\n",
       "<table border=\"1\" class=\"dataframe\">\n",
       "  <thead>\n",
       "    <tr style=\"text-align: right;\">\n",
       "      <th></th>\n",
       "      <th>Bedrooms</th>\n",
       "      <th>Highest</th>\n",
       "      <th>Bedrooms</th>\n",
       "      <th>Average</th>\n",
       "    </tr>\n",
       "  </thead>\n",
       "  <tbody>\n",
       "    <tr>\n",
       "      <th>0</th>\n",
       "      <td>1</td>\n",
       "      <td>652277.71831</td>\n",
       "      <td>6</td>\n",
       "      <td>1.022421e+06</td>\n",
       "    </tr>\n",
       "    <tr>\n",
       "      <th>1</th>\n",
       "      <td>2</td>\n",
       "      <td>652277.71831</td>\n",
       "      <td>7</td>\n",
       "      <td>6.847500e+05</td>\n",
       "    </tr>\n",
       "    <tr>\n",
       "      <th>2</th>\n",
       "      <td>3</td>\n",
       "      <td>652277.71831</td>\n",
       "      <td>8</td>\n",
       "      <td>8.235920e+05</td>\n",
       "    </tr>\n",
       "    <tr>\n",
       "      <th>3</th>\n",
       "      <td>4</td>\n",
       "      <td>652277.71831</td>\n",
       "      <td>10</td>\n",
       "      <td>7.196000e+05</td>\n",
       "    </tr>\n",
       "    <tr>\n",
       "      <th>4</th>\n",
       "      <td>5</td>\n",
       "      <td>652277.71831</td>\n",
       "      <td>11</td>\n",
       "      <td>8.125906e+05</td>\n",
       "    </tr>\n",
       "  </tbody>\n",
       "</table>\n",
       "</div>"
      ],
      "text/plain": [
       "   Bedrooms       Highest  Bedrooms       Average\n",
       "0         1  652277.71831         6  1.022421e+06\n",
       "1         2  652277.71831         7  6.847500e+05\n",
       "2         3  652277.71831         8  8.235920e+05\n",
       "3         4  652277.71831        10  7.196000e+05\n",
       "4         5  652277.71831        11  8.125906e+05"
      ]
     },
     "execution_count": 29,
     "metadata": {},
     "output_type": "execute_result"
    }
   ],
   "source": [
    "df4"
   ]
  },
  {
   "cell_type": "code",
   "execution_count": 30,
   "id": "99fb3939-7db2-4ea5-93d7-64b5a5411869",
   "metadata": {},
   "outputs": [],
   "source": [
    "df5 = pd.DataFrame({'event': [1, 2, 3, 4, 5], 'rain': ['yes', 'no', 'no', 'yes', 'no']})"
   ]
  },
  {
   "cell_type": "code",
   "execution_count": 31,
   "id": "c38c31f8-f252-4a43-8a4f-16c8e117f5d9",
   "metadata": {},
   "outputs": [
    {
     "data": {
      "text/html": [
       "<div>\n",
       "<style scoped>\n",
       "    .dataframe tbody tr th:only-of-type {\n",
       "        vertical-align: middle;\n",
       "    }\n",
       "\n",
       "    .dataframe tbody tr th {\n",
       "        vertical-align: top;\n",
       "    }\n",
       "\n",
       "    .dataframe thead th {\n",
       "        text-align: right;\n",
       "    }\n",
       "</style>\n",
       "<table border=\"1\" class=\"dataframe\">\n",
       "  <thead>\n",
       "    <tr style=\"text-align: right;\">\n",
       "      <th></th>\n",
       "      <th>event</th>\n",
       "      <th>rain</th>\n",
       "    </tr>\n",
       "  </thead>\n",
       "  <tbody>\n",
       "    <tr>\n",
       "      <th>0</th>\n",
       "      <td>1</td>\n",
       "      <td>yes</td>\n",
       "    </tr>\n",
       "    <tr>\n",
       "      <th>1</th>\n",
       "      <td>2</td>\n",
       "      <td>no</td>\n",
       "    </tr>\n",
       "    <tr>\n",
       "      <th>2</th>\n",
       "      <td>3</td>\n",
       "      <td>no</td>\n",
       "    </tr>\n",
       "    <tr>\n",
       "      <th>3</th>\n",
       "      <td>4</td>\n",
       "      <td>yes</td>\n",
       "    </tr>\n",
       "    <tr>\n",
       "      <th>4</th>\n",
       "      <td>5</td>\n",
       "      <td>no</td>\n",
       "    </tr>\n",
       "  </tbody>\n",
       "</table>\n",
       "</div>"
      ],
      "text/plain": [
       "   event rain\n",
       "0      1  yes\n",
       "1      2   no\n",
       "2      3   no\n",
       "3      4  yes\n",
       "4      5   no"
      ]
     },
     "execution_count": 31,
     "metadata": {},
     "output_type": "execute_result"
    }
   ],
   "source": [
    "df5"
   ]
  },
  {
   "cell_type": "code",
   "execution_count": 32,
   "id": "77caad85-8fb7-44de-87c2-ec1cbfd9787f",
   "metadata": {},
   "outputs": [],
   "source": [
    "df6 = pd.concat([df4,df5], axis=1)"
   ]
  },
  {
   "cell_type": "code",
   "execution_count": 33,
   "id": "d946caaf-c845-4341-9e17-19393f5510c7",
   "metadata": {},
   "outputs": [],
   "source": [
    "df6.drop(\"Bedrooms\", axis=1, inplace = True)"
   ]
  },
  {
   "cell_type": "code",
   "execution_count": 34,
   "id": "fcb10ffd-0228-4580-a9d5-5eaac1fb6dda",
   "metadata": {},
   "outputs": [
    {
     "data": {
      "text/html": [
       "<div>\n",
       "<style scoped>\n",
       "    .dataframe tbody tr th:only-of-type {\n",
       "        vertical-align: middle;\n",
       "    }\n",
       "\n",
       "    .dataframe tbody tr th {\n",
       "        vertical-align: top;\n",
       "    }\n",
       "\n",
       "    .dataframe thead th {\n",
       "        text-align: right;\n",
       "    }\n",
       "</style>\n",
       "<table border=\"1\" class=\"dataframe\">\n",
       "  <thead>\n",
       "    <tr style=\"text-align: right;\">\n",
       "      <th></th>\n",
       "      <th>Highest</th>\n",
       "      <th>Average</th>\n",
       "      <th>event</th>\n",
       "      <th>rain</th>\n",
       "    </tr>\n",
       "  </thead>\n",
       "  <tbody>\n",
       "    <tr>\n",
       "      <th>0</th>\n",
       "      <td>652277.71831</td>\n",
       "      <td>1.022421e+06</td>\n",
       "      <td>1</td>\n",
       "      <td>yes</td>\n",
       "    </tr>\n",
       "    <tr>\n",
       "      <th>1</th>\n",
       "      <td>652277.71831</td>\n",
       "      <td>6.847500e+05</td>\n",
       "      <td>2</td>\n",
       "      <td>no</td>\n",
       "    </tr>\n",
       "    <tr>\n",
       "      <th>2</th>\n",
       "      <td>652277.71831</td>\n",
       "      <td>8.235920e+05</td>\n",
       "      <td>3</td>\n",
       "      <td>no</td>\n",
       "    </tr>\n",
       "    <tr>\n",
       "      <th>3</th>\n",
       "      <td>652277.71831</td>\n",
       "      <td>7.196000e+05</td>\n",
       "      <td>4</td>\n",
       "      <td>yes</td>\n",
       "    </tr>\n",
       "    <tr>\n",
       "      <th>4</th>\n",
       "      <td>652277.71831</td>\n",
       "      <td>8.125906e+05</td>\n",
       "      <td>5</td>\n",
       "      <td>no</td>\n",
       "    </tr>\n",
       "  </tbody>\n",
       "</table>\n",
       "</div>"
      ],
      "text/plain": [
       "        Highest       Average  event rain\n",
       "0  652277.71831  1.022421e+06      1  yes\n",
       "1  652277.71831  6.847500e+05      2   no\n",
       "2  652277.71831  8.235920e+05      3   no\n",
       "3  652277.71831  7.196000e+05      4  yes\n",
       "4  652277.71831  8.125906e+05      5   no"
      ]
     },
     "execution_count": 34,
     "metadata": {},
     "output_type": "execute_result"
    }
   ],
   "source": [
    "df6"
   ]
  },
  {
   "cell_type": "code",
   "execution_count": 35,
   "id": "2d3d5d8d-48f9-4050-b99b-1c0602167404",
   "metadata": {},
   "outputs": [],
   "source": [
    "new = df6.groupby(\"rain\")[\"event\"].mean().reset_index()"
   ]
  },
  {
   "cell_type": "code",
   "execution_count": 36,
   "id": "6c363016-18d4-46c7-8825-14c5b0509892",
   "metadata": {},
   "outputs": [],
   "source": [
    "xpos = np.arange(len(new['rain']))"
   ]
  },
  {
   "cell_type": "code",
   "execution_count": 37,
   "id": "b8f9785e-097b-40ed-bed0-b78091cadea3",
   "metadata": {},
   "outputs": [
    {
     "data": {
      "text/html": [
       "<div>\n",
       "<style scoped>\n",
       "    .dataframe tbody tr th:only-of-type {\n",
       "        vertical-align: middle;\n",
       "    }\n",
       "\n",
       "    .dataframe tbody tr th {\n",
       "        vertical-align: top;\n",
       "    }\n",
       "\n",
       "    .dataframe thead th {\n",
       "        text-align: right;\n",
       "    }\n",
       "</style>\n",
       "<table border=\"1\" class=\"dataframe\">\n",
       "  <thead>\n",
       "    <tr style=\"text-align: right;\">\n",
       "      <th></th>\n",
       "      <th>rain</th>\n",
       "      <th>event</th>\n",
       "    </tr>\n",
       "  </thead>\n",
       "  <tbody>\n",
       "    <tr>\n",
       "      <th>0</th>\n",
       "      <td>no</td>\n",
       "      <td>3.333333</td>\n",
       "    </tr>\n",
       "    <tr>\n",
       "      <th>1</th>\n",
       "      <td>yes</td>\n",
       "      <td>2.500000</td>\n",
       "    </tr>\n",
       "  </tbody>\n",
       "</table>\n",
       "</div>"
      ],
      "text/plain": [
       "  rain     event\n",
       "0   no  3.333333\n",
       "1  yes  2.500000"
      ]
     },
     "execution_count": 37,
     "metadata": {},
     "output_type": "execute_result"
    }
   ],
   "source": [
    "new"
   ]
  },
  {
   "cell_type": "code",
   "execution_count": 38,
   "id": "2be740f8-0de3-443e-8bec-c220e7dde231",
   "metadata": {},
   "outputs": [],
   "source": [
    "humidity = [2.1,1.2]"
   ]
  },
  {
   "cell_type": "code",
   "execution_count": 39,
   "id": "f187a9f7-0eb3-410b-ab08-30160bc5ef6b",
   "metadata": {},
   "outputs": [],
   "source": [
    "temp1 = new.iloc[0]\n",
    "temp2 = new.iloc[1]\n",
    "new.iloc[0] = temp2\n",
    "new.iloc[1] = temp1"
   ]
  },
  {
   "cell_type": "code",
   "execution_count": 40,
   "id": "be0bc6e0-84de-4c6e-ba4b-107e2869c396",
   "metadata": {},
   "outputs": [
    {
     "data": {
      "text/plain": [
       "<matplotlib.legend.Legend at 0x29507f3e190>"
      ]
     },
     "execution_count": 40,
     "metadata": {},
     "output_type": "execute_result"
    },
    {
     "data": {
      "image/png": "[encoded data removed]",
      "text/plain": [
       "<Figure size 640x480 with 1 Axes>"
      ]
     },
     "metadata": {},
     "output_type": "display_data"
    }
   ],
   "source": [
    "plt.xticks(xpos,new['rain'])\n",
    "plt.bar(xpos+0.25,new['event'], width = 0.5, label = 'rain')\n",
    "plt.bar(xpos-0.25,humidity, width = 0.5, label = 'humidity')\n",
    "plt.legend()"
   ]
  },
  {
   "cell_type": "code",
   "execution_count": 56,
   "id": "9b274fe3-e4b3-4512-8d3e-fa10c9ffe44a",
   "metadata": {},
   "outputs": [],
   "source": [
    "new = df6.groupby(\"rain\")"
   ]
  },
  {
   "cell_type": "code",
   "execution_count": 59,
   "id": "c15513df-3802-4f17-8273-b4c9ad3c4d9b",
   "metadata": {},
   "outputs": [
    {
     "data": {
      "text/plain": [
       "rain\n",
       "no     5\n",
       "yes    4\n",
       "Name: event, dtype: int64"
      ]
     },
     "execution_count": 59,
     "metadata": {},
     "output_type": "execute_result"
    }
   ],
   "source": [
    "new['event'].max()"
   ]
  },
  {
   "cell_type": "code",
   "execution_count": null,
   "id": "69470f52-2f30-427c-aade-a9c4131e8741",
   "metadata": {},
   "outputs": [],
   "source": []
  }
 ],
 "metadata": {
  "kernelspec": {
   "display_name": "Python 3 (ipykernel)",
   "language": "python",
   "name": "python3"
  },
  "language_info": {
   "codemirror_mode": {
    "name": "ipython",
    "version": 3
   },
   "file_extension": ".py",
   "mimetype": "text/x-python",
   "name": "python",
   "nbconvert_exporter": "python",
   "pygments_lexer": "ipython3",
   "version": "3.11.4"
  }
 },
 "nbformat": 4,
 "nbformat_minor": 5
}
